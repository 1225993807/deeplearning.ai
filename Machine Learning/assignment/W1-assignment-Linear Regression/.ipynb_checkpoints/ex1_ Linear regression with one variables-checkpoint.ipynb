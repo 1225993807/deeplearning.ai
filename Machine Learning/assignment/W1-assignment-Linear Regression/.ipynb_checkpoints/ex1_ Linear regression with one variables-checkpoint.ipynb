{
 "cells": [
  {
   "cell_type": "markdown",
   "metadata": {},
   "source": [
    "## Linear regression with one variables"
   ]
  },
  {
   "cell_type": "markdown",
   "metadata": {},
   "source": [
    "using ex1data1.txt"
   ]
  },
  {
   "cell_type": "markdown",
   "metadata": {},
   "source": [
    "### 1.1 Plotting the Data"
   ]
  },
  {
   "cell_type": "code",
   "execution_count": 15,
   "metadata": {},
   "outputs": [],
   "source": [
    "import pandas as pd\n",
    "import numpy as np\n",
    "import matplotlib.pyplot as plt"
   ]
  },
  {
   "cell_type": "code",
   "execution_count": 16,
   "metadata": {},
   "outputs": [
    {
     "name": "stdout",
     "output_type": "stream",
     "text": [
      "shape of data:(97, 2)\n"
     ]
    },
    {
     "data": {
      "text/html": [
       "<div>\n",
       "<style scoped>\n",
       "    .dataframe tbody tr th:only-of-type {\n",
       "        vertical-align: middle;\n",
       "    }\n",
       "\n",
       "    .dataframe tbody tr th {\n",
       "        vertical-align: top;\n",
       "    }\n",
       "\n",
       "    .dataframe thead th {\n",
       "        text-align: right;\n",
       "    }\n",
       "</style>\n",
       "<table border=\"1\" class=\"dataframe\">\n",
       "  <thead>\n",
       "    <tr style=\"text-align: right;\">\n",
       "      <th></th>\n",
       "      <th>population</th>\n",
       "      <th>profit</th>\n",
       "    </tr>\n",
       "  </thead>\n",
       "  <tbody>\n",
       "    <tr>\n",
       "      <th>0</th>\n",
       "      <td>6.1101</td>\n",
       "      <td>17.5920</td>\n",
       "    </tr>\n",
       "    <tr>\n",
       "      <th>1</th>\n",
       "      <td>5.5277</td>\n",
       "      <td>9.1302</td>\n",
       "    </tr>\n",
       "    <tr>\n",
       "      <th>2</th>\n",
       "      <td>8.5186</td>\n",
       "      <td>13.6620</td>\n",
       "    </tr>\n",
       "    <tr>\n",
       "      <th>3</th>\n",
       "      <td>7.0032</td>\n",
       "      <td>11.8540</td>\n",
       "    </tr>\n",
       "    <tr>\n",
       "      <th>4</th>\n",
       "      <td>5.8598</td>\n",
       "      <td>6.8233</td>\n",
       "    </tr>\n",
       "  </tbody>\n",
       "</table>\n",
       "</div>"
      ],
      "text/plain": [
       "   population   profit\n",
       "0      6.1101  17.5920\n",
       "1      5.5277   9.1302\n",
       "2      8.5186  13.6620\n",
       "3      7.0032  11.8540\n",
       "4      5.8598   6.8233"
      ]
     },
     "execution_count": 16,
     "metadata": {},
     "output_type": "execute_result"
    }
   ],
   "source": [
    "data=pd.read_csv(\"ex1data1.txt\",names=[\"population\",\"profit\"])\n",
    "print(\"shape of data:{}\".format(data.shape))\n",
    "data.head()"
   ]
  },
  {
   "cell_type": "code",
   "execution_count": 17,
   "metadata": {},
   "outputs": [
    {
     "data": {
      "image/png": "[encoded data removed]",
      "text/plain": [
       "<Figure size 864x576 with 1 Axes>"
      ]
     },
     "metadata": {
      "needs_background": "light"
     },
     "output_type": "display_data"
    }
   ],
   "source": [
    "population=data['population'].values\n",
    "profit=data['profit'].values\n",
    "\n",
    "fig,ax=plt.subplots(figsize=(12,8))\n",
    "ax.scatter(population,profit,c='r',s=20,marker='x',alpha=0.5)\n",
    "ax.set_xlabel(\"Population of City in 10,000s\")\n",
    "ax.set_ylabel(\"Profit in $ 10,000\")\n",
    "\n",
    "plt.show()"
   ]
  },
  {
   "cell_type": "markdown",
   "metadata": {},
   "source": [
    "### 1.2 Gradient Descent"
   ]
  },
  {
   "cell_type": "markdown",
   "metadata": {},
   "source": [
    "#### 1.2.1 Update Equations"
   ]
  },
  {
   "cell_type": "markdown",
   "metadata": {},
   "source": [
    "The objective of linear regression is to minimiza the cost funtion:\n",
    "\n",
    "$J(\\theta)=\\frac{1}{2m}\\sum_{i=1}^{m}(h_{\\theta}(x^{(i)})-y^{(i)})^{2}$\n",
    "\n",
    "Hypothesis $h_{\\theta}(x)$ is given by:\n",
    "\n",
    "$h_{\\theta}=\\theta^{T}x=\\theta_{0}+\\theta_{1}x_{1}$\n",
    "\n",
    "In **batch gradient descent**,each iteration performas the update:\n",
    "\n",
    "$\\theta_{j}:=\\theta_{j}-\\alpha\\frac{1}{m}\\sum_{i=1}^{m}(h_{\\theta}(x^{(i)})-y^{(i)})x_{j}^{(i)}$"
   ]
  },
  {
   "cell_type": "markdown",
   "metadata": {},
   "source": [
    "#### 1.2.2 Implementation"
   ]
  },
  {
   "cell_type": "markdown",
   "metadata": {},
   "source": [
    "Add another dimension to our data to accommodate the $\\theta_{0}$ intercept term\n",
    "\n",
    "And we also initialize the $parameters$ to 0 and the learning rate $alpha$ to 0.01"
   ]
  },
  {
   "cell_type": "code",
   "execution_count": 18,
   "metadata": {},
   "outputs": [],
   "source": [
    "#insert the intercept term\n",
    "data.insert(0,\"intercept term\",1)"
   ]
  },
  {
   "cell_type": "code",
   "execution_count": 19,
   "metadata": {},
   "outputs": [
    {
     "name": "stdout",
     "output_type": "stream",
     "text": [
      "shape of X: (97, 2)\n",
      "shape of y: (97, 1)\n",
      "shape of theta: (1, 2)\n"
     ]
    }
   ],
   "source": [
    "X=np.mat(data.iloc[:,:2].values)\n",
    "y=np.mat(data.iloc[:,-1:].values)\n",
    "\n",
    "print(\"shape of X: {}\".format(X.shape))\n",
    "print(\"shape of y: {}\".format(y.shape))\n",
    "theta=np.mat(np.zeros(X.shape[1]))\n",
    "print(\"shape of theta: {}\".format(theta.shape))\n",
    "\n",
    "iterations=1500\n",
    "alpha=0.01"
   ]
  },
  {
   "cell_type": "markdown",
   "metadata": {},
   "source": [
    "#### 1.2.3 Computing the cost $J(\\theta)$"
   ]
  },
  {
   "cell_type": "code",
   "execution_count": 20,
   "metadata": {},
   "outputs": [],
   "source": [
    "def compute_cost(theta,X,y):\n",
    "    \"\"\"\n",
    "    :param theta:\n",
    "    :param X:\n",
    "    :param y:\n",
    "    \"\"\"\n",
    "    \n",
    "    m=X.shape[0]\n",
    "    inner=np.sum(np.power(X*theta.T-y,2))\n",
    "    \n",
    "    return (1/(2*m))*inner"
   ]
  },
  {
   "cell_type": "code",
   "execution_count": 21,
   "metadata": {},
   "outputs": [
    {
     "data": {
      "text/plain": [
       "32.072733877455676"
      ]
     },
     "execution_count": 21,
     "metadata": {},
     "output_type": "execute_result"
    }
   ],
   "source": [
    "compute_cost(theta,X,y)"
   ]
  },
  {
   "cell_type": "markdown",
   "metadata": {},
   "source": [
    "#### 1.2.4 Gradient descent"
   ]
  },
  {
   "cell_type": "code",
   "execution_count": 22,
   "metadata": {},
   "outputs": [],
   "source": [
    "def batch_gradientdescent(theta,X,y,iterations,alpha):\n",
    "    \"\"\"\n",
    "    \n",
    "    :param theta:\n",
    "    :param X:\n",
    "    :param y:\n",
    "    \"\"\"\n",
    "    \n",
    "    m=X.shape[0]\n",
    "    temp=np.mat(np.zeros(theta.shape))\n",
    "    parameters=int(theta.ravel().shape[1])\n",
    "    cost=np.zeros(iterations)\n",
    "    \n",
    "    for i in range(iterations):\n",
    "        error=X*theta.T-y\n",
    "        for j in range(parameters):\n",
    "            term=np.multiply(error,X[:,j])\n",
    "            temp[0,j]=temp[0,j]-((alpha/m))*np.sum(term)\n",
    "            \n",
    "        theta=temp\n",
    "        cost[i]=compute_cost(theta,X,y)\n",
    "        \n",
    "    return theta,cost"
   ]
  },
  {
   "cell_type": "code",
   "execution_count": 23,
   "metadata": {},
   "outputs": [],
   "source": [
    "g,cost=batch_gradientdescent(theta,X,y,iterations,alpha)"
   ]
  },
  {
   "cell_type": "markdown",
   "metadata": {},
   "source": [
    "### 1.3 Visualizing $J(\\theta)$"
   ]
  },
  {
   "cell_type": "code",
   "execution_count": 24,
   "metadata": {},
   "outputs": [
    {
     "data": {
      "text/plain": [
       "Text(0, 0.5, 'cost')"
      ]
     },
     "execution_count": 24,
     "metadata": {},
     "output_type": "execute_result"
    },
    {
     "data": {
      "image/png": "[encoded data removed]",
      "text/plain": [
       "<Figure size 1152x576 with 2 Axes>"
      ]
     },
     "metadata": {
      "needs_background": "light"
     },
     "output_type": "display_data"
    }
   ],
   "source": [
    "#Plot x:iterations y:cost\n",
    "#Plot the predict Population and Profit\n",
    "\n",
    "y_pre=np.array(X*g.T)\n",
    "fig,ax=plt.subplots(1,2,figsize=(16,8))\n",
    "\n",
    "ax[0].scatter(population,profit,c='r',s=20,marker='x',alpha=0.5,label=\"Training data\")\n",
    "ax[0].plot(population,y_pre,c='blue',label=\"Linear regression\")\n",
    "ax[0].set_xlabel(\"Population of City in 10,000s\")\n",
    "ax[0].set_ylabel(\"Profit in $ 10,000\")\n",
    "\n",
    "iters=np.linspace(0,1500,1500)\n",
    "ax[1].plot(iters,cost,c='black')\n",
    "ax[1].set_xlabel(\"iterations\")\n",
    "ax[1].set_ylabel(\"cost\")"
   ]
  },
  {
   "cell_type": "code",
   "execution_count": null,
   "metadata": {},
   "outputs": [],
   "source": []
  }
 ],
 "metadata": {
  "kernelspec": {
   "display_name": "Python 3",
   "language": "python",
   "name": "python3"
  },
  "language_info": {
   "codemirror_mode": {
    "name": "ipython",
    "version": 3
   },
   "file_extension": ".py",
   "mimetype": "text/x-python",
   "name": "python",
   "nbconvert_exporter": "python",
   "pygments_lexer": "ipython3",
   "version": "3.8.1"
  }
 },
 "nbformat": 4,
 "nbformat_minor": 4
}
