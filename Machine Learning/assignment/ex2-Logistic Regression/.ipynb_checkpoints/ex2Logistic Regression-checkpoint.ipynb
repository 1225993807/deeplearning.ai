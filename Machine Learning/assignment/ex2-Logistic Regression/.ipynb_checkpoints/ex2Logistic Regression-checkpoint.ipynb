{
 "cells": [
  {
   "cell_type": "markdown",
   "metadata": {},
   "source": [
    "## 1 Logistic Regression"
   ]
  },
  {
   "cell_type": "markdown",
   "metadata": {},
   "source": [
    "using ex2data2.txt"
   ]
  },
  {
   "cell_type": "markdown",
   "metadata": {},
   "source": [
    "### 1.1 Visualizing the data"
   ]
  },
  {
   "cell_type": "code",
   "execution_count": 27,
   "metadata": {},
   "outputs": [],
   "source": [
    "import pandas as pd\n",
    "import numpy as np\n",
    "import matplotlib.pyplot as plt"
   ]
  },
  {
   "cell_type": "code",
   "execution_count": 28,
   "metadata": {},
   "outputs": [
    {
     "data": {
      "text/html": [
       "<div>\n",
       "<style scoped>\n",
       "    .dataframe tbody tr th:only-of-type {\n",
       "        vertical-align: middle;\n",
       "    }\n",
       "\n",
       "    .dataframe tbody tr th {\n",
       "        vertical-align: top;\n",
       "    }\n",
       "\n",
       "    .dataframe thead th {\n",
       "        text-align: right;\n",
       "    }\n",
       "</style>\n",
       "<table border=\"1\" class=\"dataframe\">\n",
       "  <thead>\n",
       "    <tr style=\"text-align: right;\">\n",
       "      <th></th>\n",
       "      <th>exam1 score</th>\n",
       "      <th>exam2 score</th>\n",
       "      <th>labels</th>\n",
       "    </tr>\n",
       "  </thead>\n",
       "  <tbody>\n",
       "    <tr>\n",
       "      <th>0</th>\n",
       "      <td>34.623660</td>\n",
       "      <td>78.024693</td>\n",
       "      <td>0</td>\n",
       "    </tr>\n",
       "    <tr>\n",
       "      <th>1</th>\n",
       "      <td>30.286711</td>\n",
       "      <td>43.894998</td>\n",
       "      <td>0</td>\n",
       "    </tr>\n",
       "    <tr>\n",
       "      <th>2</th>\n",
       "      <td>35.847409</td>\n",
       "      <td>72.902198</td>\n",
       "      <td>0</td>\n",
       "    </tr>\n",
       "    <tr>\n",
       "      <th>3</th>\n",
       "      <td>60.182599</td>\n",
       "      <td>86.308552</td>\n",
       "      <td>1</td>\n",
       "    </tr>\n",
       "    <tr>\n",
       "      <th>4</th>\n",
       "      <td>79.032736</td>\n",
       "      <td>75.344376</td>\n",
       "      <td>1</td>\n",
       "    </tr>\n",
       "    <tr>\n",
       "      <th>...</th>\n",
       "      <td>...</td>\n",
       "      <td>...</td>\n",
       "      <td>...</td>\n",
       "    </tr>\n",
       "    <tr>\n",
       "      <th>95</th>\n",
       "      <td>83.489163</td>\n",
       "      <td>48.380286</td>\n",
       "      <td>1</td>\n",
       "    </tr>\n",
       "    <tr>\n",
       "      <th>96</th>\n",
       "      <td>42.261701</td>\n",
       "      <td>87.103851</td>\n",
       "      <td>1</td>\n",
       "    </tr>\n",
       "    <tr>\n",
       "      <th>97</th>\n",
       "      <td>99.315009</td>\n",
       "      <td>68.775409</td>\n",
       "      <td>1</td>\n",
       "    </tr>\n",
       "    <tr>\n",
       "      <th>98</th>\n",
       "      <td>55.340018</td>\n",
       "      <td>64.931938</td>\n",
       "      <td>1</td>\n",
       "    </tr>\n",
       "    <tr>\n",
       "      <th>99</th>\n",
       "      <td>74.775893</td>\n",
       "      <td>89.529813</td>\n",
       "      <td>1</td>\n",
       "    </tr>\n",
       "  </tbody>\n",
       "</table>\n",
       "<p>100 rows × 3 columns</p>\n",
       "</div>"
      ],
      "text/plain": [
       "    exam1 score  exam2 score  labels\n",
       "0     34.623660    78.024693       0\n",
       "1     30.286711    43.894998       0\n",
       "2     35.847409    72.902198       0\n",
       "3     60.182599    86.308552       1\n",
       "4     79.032736    75.344376       1\n",
       "..          ...          ...     ...\n",
       "95    83.489163    48.380286       1\n",
       "96    42.261701    87.103851       1\n",
       "97    99.315009    68.775409       1\n",
       "98    55.340018    64.931938       1\n",
       "99    74.775893    89.529813       1\n",
       "\n",
       "[100 rows x 3 columns]"
      ]
     },
     "execution_count": 28,
     "metadata": {},
     "output_type": "execute_result"
    }
   ],
   "source": [
    "data=pd.read_csv(\"ex2data1.txt\",names=[\"exam1 score\",\"exam2 score\",\"labels\"])\n",
    "data"
   ]
  },
  {
   "cell_type": "code",
   "execution_count": 29,
   "metadata": {},
   "outputs": [
    {
     "data": {
      "text/plain": [
       "Text(0, 0.5, 'Exam2 score')"
      ]
     },
     "execution_count": 29,
     "metadata": {},
     "output_type": "execute_result"
    },
    {
     "data": {
      "image/png": "[encoded data removed]",
      "text/plain": [
       "<Figure size 864x576 with 1 Axes>"
      ]
     },
     "metadata": {
      "needs_background": "light"
     },
     "output_type": "display_data"
    }
   ],
   "source": [
    "fig,ax=plt.subplots(figsize=(12,8))\n",
    "\n",
    "#legend\n",
    "font= {'family': 'Times New Roman',\n",
    "         'weight': 'normal',\n",
    "         'size': 20,\n",
    "         }\n",
    "ax.tick_params(labelsize=15,direction=\"in\",width=1,length=3,color=\"black\")\n",
    "\n",
    "y=data.iloc[:,-1:].values\n",
    "positive=data[data[\"labels\"].isin([1])]\n",
    "negative=data[data[\"labels\"].isin([0])]\n",
    "\n",
    "ax.scatter(positive[\"exam1 score\"],positive[\"exam2 score\"],c=\"black\",alpha=.5,marker=\"+\",s=100,label=\"Admitted\")\n",
    "ax.scatter(negative[\"exam1 score\"],negative[\"exam2 score\"],c=\"#FFD700\",alpha=.5,marker=\"o\",s=100,label=\"Not Admitted\")\n",
    "\n",
    "ax.legend(prop=font)\n",
    "ax.set_xlabel(\"Exam1 score\",font)\n",
    "ax.set_ylabel(\"Exam2 score\",font)"
   ]
  },
  {
   "cell_type": "markdown",
   "metadata": {},
   "source": [
    "### 1.2 Implementation"
   ]
  },
  {
   "cell_type": "markdown",
   "metadata": {},
   "source": [
    "#### 1.2.1 sigmoid function"
   ]
  },
  {
   "cell_type": "markdown",
   "metadata": {},
   "source": [
    "Recall that the logistic regression hypothsis is defined as:\n",
    "\n",
    "$h_{\\theta}=g(\\theta^{T}x)$\n",
    "\n",
    "The sigmoid function is defined as:\n",
    "\n",
    "$g(z)=\\frac{1}{1+e^{-z}}$"
   ]
  },
  {
   "cell_type": "code",
   "execution_count": 30,
   "metadata": {},
   "outputs": [],
   "source": [
    "def sigmoid(z):\n",
    "    return 1/(1+np.exp(-z))"
   ]
  },
  {
   "cell_type": "markdown",
   "metadata": {},
   "source": [
    "#### 1.2.2 Cost funtion and gradient"
   ]
  },
  {
   "cell_type": "markdown",
   "metadata": {},
   "source": [
    "Recall that the cost function is defined as:\n",
    "\n",
    "$J(\\theta)=\\frac{1}{m}\\sum_{i=1}^{m}[-y^{(i)}log(h_{\\theta}(x^{(i)}))-(1-y^{i})log(1-h_{\\theta}(x^{(i)}))]$\n",
    "\n",
    "And the gradient of the cost if defined as:\n",
    "\n",
    "$\\frac{\\partial J(\\theta)}{\\partial \\theta_{j}}=\\frac{1}{m}\\sum_{i=1}^{m}(h_{\\theta}(x^{i})-y^{(i)})x_{j}^{(i)}$"
   ]
  },
  {
   "cell_type": "code",
   "execution_count": 31,
   "metadata": {},
   "outputs": [],
   "source": [
    "def compute_cost(theta,X,y):\n",
    "    \"\"\"\n",
    "    :param theta: mat\n",
    "    :param X: mat\n",
    "    :param y: mat\n",
    "    \"\"\" \n",
    "    theta = np.mat(theta)\n",
    "    X = np.mat(X)\n",
    "    y = np.mat(y)\n",
    "    m=X.shape[0]\n",
    "    term1=np.multiply(y,np.log(sigmoid(X*theta.T)))\n",
    "    term2=np.multiply((1-y),np.log(1-sigmoid(X*theta.T)))\n",
    "    \n",
    "    return (1/m)*np.sum(-term1-term2)"
   ]
  },
  {
   "cell_type": "code",
   "execution_count": 32,
   "metadata": {},
   "outputs": [],
   "source": [
    "# insert the intercept term\n",
    "data.insert(0,\"interceopt term\",1)"
   ]
  },
  {
   "cell_type": "code",
   "execution_count": 33,
   "metadata": {},
   "outputs": [
    {
     "name": "stdout",
     "output_type": "stream",
     "text": [
      "X.head(2):\n",
      "[[ 1.         34.62365962 78.02469282]\n",
      " [ 1.         30.28671077 43.89499752]]\n",
      "y.head(2):\n",
      "[[0]\n",
      " [0]]\n",
      "(1, 3)\n",
      "The cost of initial 0.6931471805599453\n"
     ]
    }
   ],
   "source": [
    "#X,y,theta:matrix\n",
    "\n",
    "X=np.mat(data.iloc[:,:3].values)\n",
    "print(\"X.head(2):\\n{}\".format(X[:2,:]))\n",
    "y=np.mat(data.iloc[:,-1:].values)\n",
    "print(\"y.head(2):\\n{}\".format(y[:2,:]))\n",
    "\n",
    "# initialize the theta\n",
    "theta=np.mat(np.zeros(X.shape[1]))\n",
    "print(theta.shape)\n",
    "\n",
    "# initialize the learning rate\n",
    "alpha=0.01\n",
    "\n",
    "print(\"The cost of initial {}\".format(compute_cost(theta,X,y)))"
   ]
  },
  {
   "cell_type": "code",
   "execution_count": 34,
   "metadata": {},
   "outputs": [],
   "source": [
    "# #X,y,theta:ndarray\n",
    "\n",
    "# X=np.array(data.iloc[:,:3].values)\n",
    "# print(\"X.head(2):\\n{}\".format(X[:2,:]))\n",
    "# y=np.array(data.iloc[:,-1:].values)\n",
    "# print(\"y.head(2):\\n{}\".format(y[:2,:]))\n",
    "\n",
    "# # initialize the theta\n",
    "# theta=np.zeros(X.shape[1])\n",
    "# print(theta.shape)\n",
    "\n",
    "# # initialize the learning rate\n",
    "# alpha=0.01\n",
    "\n",
    "# print(\"The cost of initial {}\".format(compute_cost(theta,X,y)))"
   ]
  },
  {
   "cell_type": "code",
   "execution_count": 35,
   "metadata": {},
   "outputs": [],
   "source": [
    "def compute_gradient(theta,X,y):\n",
    "    \"\"\"\n",
    "    :param theta: mat\n",
    "    :param X: mat\n",
    "    :param y: mat\n",
    "    \"\"\"\n",
    "    \n",
    "    theta=np.mat(theta)\n",
    "    X=np.mat(X)\n",
    "    y=np.mat(y)\n",
    "    parameters=int(theta.ravel().shape[1])\n",
    "    grad = np.zeros(parameters)\n",
    "    m=X.shape[0]\n",
    "    \n",
    "    error=sigmoid(X*theta.T)-y\n",
    "    \n",
    "    for j in range(parameters):\n",
    "        term=np.multiply(error,X[:,j])\n",
    "        \n",
    "        grad[j]=(1/m)*np.sum(term)\n",
    "        \n",
    "    return grad"
   ]
  },
  {
   "cell_type": "markdown",
   "metadata": {},
   "source": [
    "#### 1.2.3 Learning parameters using fminunc"
   ]
  },
  {
   "cell_type": "markdown",
   "metadata": {},
   "source": [
    "The initial values of thr parameters we are trying to optimize\n",
    "\n",
    "A function that,when giving the training set and a particular $\\theta$,computes the cost and gradient with respect to $\\theta$ for the dataset$(X,y)$"
   ]
  },
  {
   "cell_type": "code",
   "execution_count": 36,
   "metadata": {},
   "outputs": [],
   "source": [
    "import scipy.optimize as opt"
   ]
  },
  {
   "cell_type": "code",
   "execution_count": 37,
   "metadata": {},
   "outputs": [
    {
     "data": {
      "text/plain": [
       "(array([-25.16131858,   0.20623159,   0.20147149]), 36, 0)"
      ]
     },
     "execution_count": 37,
     "metadata": {},
     "output_type": "execute_result"
    }
   ],
   "source": [
    "result = opt.fmin_tnc(func=compute_cost, x0=theta, fprime=compute_gradient, args=(X, y))\n",
    "result"
   ]
  },
  {
   "cell_type": "code",
   "execution_count": 38,
   "metadata": {},
   "outputs": [
    {
     "data": {
      "text/plain": [
       "     fun: 0.2034977046584158\n",
       "     jac: array([-1.40727436e-05, -9.88287471e-04, -9.29152882e-04])\n",
       " message: 'Optimization terminated successfully.'\n",
       "    nfev: 72\n",
       "    nhev: 0\n",
       "     nit: 27\n",
       "    njev: 228\n",
       "  status: 0\n",
       " success: True\n",
       "       x: array([-25.15679341,   0.2061951 ,   0.20143518])"
      ]
     },
     "execution_count": 38,
     "metadata": {},
     "output_type": "execute_result"
    }
   ],
   "source": [
    "res=opt.minimize(fun=compute_cost,x0=theta,jac=compute_gradient,args=(X,y),method='Newton-CG')\n",
    "res"
   ]
  },
  {
   "cell_type": "code",
   "execution_count": 39,
   "metadata": {},
   "outputs": [
    {
     "data": {
      "text/plain": [
       "0.2034977046584158"
      ]
     },
     "execution_count": 39,
     "metadata": {},
     "output_type": "execute_result"
    }
   ],
   "source": [
    "compute_cost(res.x,X,y)"
   ]
  },
  {
   "cell_type": "markdown",
   "metadata": {},
   "source": [
    "#### 1.2.4 Evaluating logistic regression"
   ]
  },
  {
   "cell_type": "code",
   "execution_count": 40,
   "metadata": {},
   "outputs": [],
   "source": [
    "coef=res.x\n",
    "\n",
    "x_cor=np.arange(30,120,step=1)\n",
    "y_cor=-(coef[0]+coef[1]*x_cor)/coef[2]"
   ]
  },
  {
   "cell_type": "code",
   "execution_count": 41,
   "metadata": {},
   "outputs": [
    {
     "data": {
      "text/plain": [
       "(30.0, 100.0)"
      ]
     },
     "execution_count": 41,
     "metadata": {},
     "output_type": "execute_result"
    },
    {
     "data": {
      "image/png": "[encoded data removed]",
      "text/plain": [
       "<Figure size 864x576 with 1 Axes>"
      ]
     },
     "metadata": {
      "needs_background": "light"
     },
     "output_type": "display_data"
    }
   ],
   "source": [
    "fig,ax=plt.subplots(figsize=(12,8))\n",
    "\n",
    "#param\n",
    "font= {'family': 'Times New Roman',\n",
    "         'weight': 'normal',\n",
    "         'size': 20,\n",
    "         }\n",
    "ax.tick_params(labelsize=15,direction=\"in\",width=1,length=3,color=\"black\")\n",
    "\n",
    "y=data.iloc[:,-1:].values\n",
    "positive=data[data[\"labels\"].isin([1])]\n",
    "negative=data[data[\"labels\"].isin([0])]\n",
    "\n",
    "ax.scatter(positive[\"exam1 score\"],positive[\"exam2 score\"],c=\"black\",alpha=.5,marker=\"+\",s=100,label=\"Admitted\")\n",
    "ax.scatter(negative[\"exam1 score\"],negative[\"exam2 score\"],c=\"#FFD700\",alpha=.5,marker=\"o\",s=100,label=\"Not Admitted\")\n",
    "ax.plot(x_cor,y_cor,linewidth=3,c=\"#1E90FF\",label=\"decision boundary\")\n",
    "\n",
    "ax.legend(prop=font)\n",
    "ax.set_xlabel(\"Exam1 score\",font)\n",
    "ax.set_ylabel(\"Exam2 score\",font)\n",
    "ax.set_ylim(30,100)"
   ]
  },
  {
   "cell_type": "markdown",
   "metadata": {},
   "source": [
    "## 2 Regularized logistic regression"
   ]
  },
  {
   "cell_type": "markdown",
   "metadata": {},
   "source": [
    "using ex2data2.txt"
   ]
  },
  {
   "cell_type": "markdown",
   "metadata": {},
   "source": [
    "### 2.1 Visualizing the data"
   ]
  },
  {
   "cell_type": "code",
   "execution_count": 42,
   "metadata": {},
   "outputs": [
    {
     "data": {
      "text/html": [
       "<div>\n",
       "<style scoped>\n",
       "    .dataframe tbody tr th:only-of-type {\n",
       "        vertical-align: middle;\n",
       "    }\n",
       "\n",
       "    .dataframe tbody tr th {\n",
       "        vertical-align: top;\n",
       "    }\n",
       "\n",
       "    .dataframe thead th {\n",
       "        text-align: right;\n",
       "    }\n",
       "</style>\n",
       "<table border=\"1\" class=\"dataframe\">\n",
       "  <thead>\n",
       "    <tr style=\"text-align: right;\">\n",
       "      <th></th>\n",
       "      <th>Microchip test 1</th>\n",
       "      <th>Microchip test 2</th>\n",
       "      <th>labels</th>\n",
       "    </tr>\n",
       "  </thead>\n",
       "  <tbody>\n",
       "    <tr>\n",
       "      <th>0</th>\n",
       "      <td>0.051267</td>\n",
       "      <td>0.69956</td>\n",
       "      <td>1</td>\n",
       "    </tr>\n",
       "    <tr>\n",
       "      <th>1</th>\n",
       "      <td>-0.092742</td>\n",
       "      <td>0.68494</td>\n",
       "      <td>1</td>\n",
       "    </tr>\n",
       "    <tr>\n",
       "      <th>2</th>\n",
       "      <td>-0.213710</td>\n",
       "      <td>0.69225</td>\n",
       "      <td>1</td>\n",
       "    </tr>\n",
       "    <tr>\n",
       "      <th>3</th>\n",
       "      <td>-0.375000</td>\n",
       "      <td>0.50219</td>\n",
       "      <td>1</td>\n",
       "    </tr>\n",
       "    <tr>\n",
       "      <th>4</th>\n",
       "      <td>-0.513250</td>\n",
       "      <td>0.46564</td>\n",
       "      <td>1</td>\n",
       "    </tr>\n",
       "  </tbody>\n",
       "</table>\n",
       "</div>"
      ],
      "text/plain": [
       "   Microchip test 1  Microchip test 2  labels\n",
       "0          0.051267           0.69956       1\n",
       "1         -0.092742           0.68494       1\n",
       "2         -0.213710           0.69225       1\n",
       "3         -0.375000           0.50219       1\n",
       "4         -0.513250           0.46564       1"
      ]
     },
     "execution_count": 42,
     "metadata": {},
     "output_type": "execute_result"
    }
   ],
   "source": [
    "data=pd.read_csv(\"ex2data2.txt\",names=[\"Microchip test 1\",\"Microchip test 2\",\"labels\"])\n",
    "data.head()"
   ]
  },
  {
   "cell_type": "code",
   "execution_count": 43,
   "metadata": {},
   "outputs": [
    {
     "data": {
      "text/plain": [
       "Text(0, 0.5, 'Microchip test 2')"
      ]
     },
     "execution_count": 43,
     "metadata": {},
     "output_type": "execute_result"
    },
    {
     "data": {
      "image/png": "[encoded data removed]",
      "text/plain": [
       "<Figure size 864x576 with 1 Axes>"
      ]
     },
     "metadata": {
      "needs_background": "light"
     },
     "output_type": "display_data"
    }
   ],
   "source": [
    "fig,ax=plt.subplots(figsize=(12,8))\n",
    "\n",
    "font={\n",
    "    \"family\":\"Times New Roman\",\n",
    "    \"weight\":\"normal\",\n",
    "    \"size\":20\n",
    "}\n",
    "\n",
    "ax.tick_params(labelsize=15,direction=\"in\",color=\"black\",width=1,length=3)\n",
    "\n",
    "positive=data[data[\"labels\"].isin([1])]\n",
    "negative=data[data[\"labels\"].isin([0])]\n",
    "\n",
    "ax.scatter(positive[\"Microchip test 1\"],positive[\"Microchip test 2\"],s=100,c=\"#FFD700\",alpha=.5,label=\"$y=1$\")\n",
    "ax.scatter(negative[\"Microchip test 1\"],negative[\"Microchip test 2\"],s=100,c=\"black\",marker=\"+\",alpha=.5,label=\"$y=0$\")\n",
    "\n",
    "ax.legend(prop=font)\n",
    "ax.set_xlabel(\"Microchip test 1\",font)\n",
    "ax.set_ylabel(\"Microchip test 2\",font)\n",
    "\n"
   ]
  },
  {
   "cell_type": "markdown",
   "metadata": {},
   "source": [
    "###  2.2 Feature mapping"
   ]
  },
  {
   "cell_type": "markdown",
   "metadata": {},
   "source": [
    "$mapFeature(x)=[1,x_{1},x_{2},x_{1}^{2},x_{1}x_{2}...x_{1}x_{5}^{2},x_{2}^{6}]$\n",
    "\n",
    "As a result of this mapping,our vector of two features has been transformed into 28-dimension vector"
   ]
  },
  {
   "cell_type": "code",
   "execution_count": 44,
   "metadata": {},
   "outputs": [],
   "source": [
    "import copy\n",
    "\n",
    "def feature_mapping(degree,data):\n",
    "    data_feature_mapping=copy.deepcopy(data)\n",
    "    x1=data[\"Microchip test 1\"]\n",
    "    x2=data[\"Microchip test 2\"]\n",
    "    for i in range(1,degree+1):\n",
    "        for j in range(i+1):\n",
    "            data_feature_mapping[\"F\"+str(i-j)+str(j)]=np.power(x1,i-j)*np.power(x2,j)\n",
    "            \n",
    "    data_feature_mapping.drop(\"Microchip test 1\",axis=1,inplace=True)\n",
    "    data_feature_mapping.drop(\"Microchip test 2\",axis=1,inplace=True)\n",
    "    # insert intercept term\n",
    "    data_feature_mapping.insert(1,\"Ones\",1)\n",
    "    \n",
    "    return data_feature_mapping\n",
    "\n",
    "data_feature_mapping=feature_mapping(6,data)"
   ]
  },
  {
   "cell_type": "code",
   "execution_count": 45,
   "metadata": {},
   "outputs": [
    {
     "name": "stdout",
     "output_type": "stream",
     "text": [
      "(118, 29)\n"
     ]
    },
    {
     "data": {
      "text/html": [
       "<div>\n",
       "<style scoped>\n",
       "    .dataframe tbody tr th:only-of-type {\n",
       "        vertical-align: middle;\n",
       "    }\n",
       "\n",
       "    .dataframe tbody tr th {\n",
       "        vertical-align: top;\n",
       "    }\n",
       "\n",
       "    .dataframe thead th {\n",
       "        text-align: right;\n",
       "    }\n",
       "</style>\n",
       "<table border=\"1\" class=\"dataframe\">\n",
       "  <thead>\n",
       "    <tr style=\"text-align: right;\">\n",
       "      <th></th>\n",
       "      <th>labels</th>\n",
       "      <th>Ones</th>\n",
       "      <th>F10</th>\n",
       "      <th>F01</th>\n",
       "      <th>F20</th>\n",
       "      <th>F11</th>\n",
       "      <th>F02</th>\n",
       "      <th>F30</th>\n",
       "      <th>F21</th>\n",
       "      <th>F12</th>\n",
       "      <th>...</th>\n",
       "      <th>F23</th>\n",
       "      <th>F14</th>\n",
       "      <th>F05</th>\n",
       "      <th>F60</th>\n",
       "      <th>F51</th>\n",
       "      <th>F42</th>\n",
       "      <th>F33</th>\n",
       "      <th>F24</th>\n",
       "      <th>F15</th>\n",
       "      <th>F06</th>\n",
       "    </tr>\n",
       "  </thead>\n",
       "  <tbody>\n",
       "    <tr>\n",
       "      <th>0</th>\n",
       "      <td>1</td>\n",
       "      <td>1</td>\n",
       "      <td>0.051267</td>\n",
       "      <td>0.69956</td>\n",
       "      <td>0.002628</td>\n",
       "      <td>0.035864</td>\n",
       "      <td>0.489384</td>\n",
       "      <td>0.000135</td>\n",
       "      <td>0.001839</td>\n",
       "      <td>0.025089</td>\n",
       "      <td>...</td>\n",
       "      <td>0.000900</td>\n",
       "      <td>0.012278</td>\n",
       "      <td>0.167542</td>\n",
       "      <td>1.815630e-08</td>\n",
       "      <td>2.477505e-07</td>\n",
       "      <td>0.000003</td>\n",
       "      <td>0.000046</td>\n",
       "      <td>0.000629</td>\n",
       "      <td>0.008589</td>\n",
       "      <td>0.117206</td>\n",
       "    </tr>\n",
       "    <tr>\n",
       "      <th>1</th>\n",
       "      <td>1</td>\n",
       "      <td>1</td>\n",
       "      <td>-0.092742</td>\n",
       "      <td>0.68494</td>\n",
       "      <td>0.008601</td>\n",
       "      <td>-0.063523</td>\n",
       "      <td>0.469143</td>\n",
       "      <td>-0.000798</td>\n",
       "      <td>0.005891</td>\n",
       "      <td>-0.043509</td>\n",
       "      <td>...</td>\n",
       "      <td>0.002764</td>\n",
       "      <td>-0.020412</td>\n",
       "      <td>0.150752</td>\n",
       "      <td>6.362953e-07</td>\n",
       "      <td>-4.699318e-06</td>\n",
       "      <td>0.000035</td>\n",
       "      <td>-0.000256</td>\n",
       "      <td>0.001893</td>\n",
       "      <td>-0.013981</td>\n",
       "      <td>0.103256</td>\n",
       "    </tr>\n",
       "    <tr>\n",
       "      <th>2</th>\n",
       "      <td>1</td>\n",
       "      <td>1</td>\n",
       "      <td>-0.213710</td>\n",
       "      <td>0.69225</td>\n",
       "      <td>0.045672</td>\n",
       "      <td>-0.147941</td>\n",
       "      <td>0.479210</td>\n",
       "      <td>-0.009761</td>\n",
       "      <td>0.031616</td>\n",
       "      <td>-0.102412</td>\n",
       "      <td>...</td>\n",
       "      <td>0.015151</td>\n",
       "      <td>-0.049077</td>\n",
       "      <td>0.158970</td>\n",
       "      <td>9.526844e-05</td>\n",
       "      <td>-3.085938e-04</td>\n",
       "      <td>0.001000</td>\n",
       "      <td>-0.003238</td>\n",
       "      <td>0.010488</td>\n",
       "      <td>-0.033973</td>\n",
       "      <td>0.110047</td>\n",
       "    </tr>\n",
       "    <tr>\n",
       "      <th>3</th>\n",
       "      <td>1</td>\n",
       "      <td>1</td>\n",
       "      <td>-0.375000</td>\n",
       "      <td>0.50219</td>\n",
       "      <td>0.140625</td>\n",
       "      <td>-0.188321</td>\n",
       "      <td>0.252195</td>\n",
       "      <td>-0.052734</td>\n",
       "      <td>0.070620</td>\n",
       "      <td>-0.094573</td>\n",
       "      <td>...</td>\n",
       "      <td>0.017810</td>\n",
       "      <td>-0.023851</td>\n",
       "      <td>0.031940</td>\n",
       "      <td>2.780914e-03</td>\n",
       "      <td>-3.724126e-03</td>\n",
       "      <td>0.004987</td>\n",
       "      <td>-0.006679</td>\n",
       "      <td>0.008944</td>\n",
       "      <td>-0.011978</td>\n",
       "      <td>0.016040</td>\n",
       "    </tr>\n",
       "    <tr>\n",
       "      <th>4</th>\n",
       "      <td>1</td>\n",
       "      <td>1</td>\n",
       "      <td>-0.513250</td>\n",
       "      <td>0.46564</td>\n",
       "      <td>0.263426</td>\n",
       "      <td>-0.238990</td>\n",
       "      <td>0.216821</td>\n",
       "      <td>-0.135203</td>\n",
       "      <td>0.122661</td>\n",
       "      <td>-0.111283</td>\n",
       "      <td>...</td>\n",
       "      <td>0.026596</td>\n",
       "      <td>-0.024128</td>\n",
       "      <td>0.021890</td>\n",
       "      <td>1.827990e-02</td>\n",
       "      <td>-1.658422e-02</td>\n",
       "      <td>0.015046</td>\n",
       "      <td>-0.013650</td>\n",
       "      <td>0.012384</td>\n",
       "      <td>-0.011235</td>\n",
       "      <td>0.010193</td>\n",
       "    </tr>\n",
       "  </tbody>\n",
       "</table>\n",
       "<p>5 rows × 29 columns</p>\n",
       "</div>"
      ],
      "text/plain": [
       "   labels  Ones       F10      F01       F20       F11       F02       F30  \\\n",
       "0       1     1  0.051267  0.69956  0.002628  0.035864  0.489384  0.000135   \n",
       "1       1     1 -0.092742  0.68494  0.008601 -0.063523  0.469143 -0.000798   \n",
       "2       1     1 -0.213710  0.69225  0.045672 -0.147941  0.479210 -0.009761   \n",
       "3       1     1 -0.375000  0.50219  0.140625 -0.188321  0.252195 -0.052734   \n",
       "4       1     1 -0.513250  0.46564  0.263426 -0.238990  0.216821 -0.135203   \n",
       "\n",
       "        F21       F12  ...       F23       F14       F05           F60  \\\n",
       "0  0.001839  0.025089  ...  0.000900  0.012278  0.167542  1.815630e-08   \n",
       "1  0.005891 -0.043509  ...  0.002764 -0.020412  0.150752  6.362953e-07   \n",
       "2  0.031616 -0.102412  ...  0.015151 -0.049077  0.158970  9.526844e-05   \n",
       "3  0.070620 -0.094573  ...  0.017810 -0.023851  0.031940  2.780914e-03   \n",
       "4  0.122661 -0.111283  ...  0.026596 -0.024128  0.021890  1.827990e-02   \n",
       "\n",
       "            F51       F42       F33       F24       F15       F06  \n",
       "0  2.477505e-07  0.000003  0.000046  0.000629  0.008589  0.117206  \n",
       "1 -4.699318e-06  0.000035 -0.000256  0.001893 -0.013981  0.103256  \n",
       "2 -3.085938e-04  0.001000 -0.003238  0.010488 -0.033973  0.110047  \n",
       "3 -3.724126e-03  0.004987 -0.006679  0.008944 -0.011978  0.016040  \n",
       "4 -1.658422e-02  0.015046 -0.013650  0.012384 -0.011235  0.010193  \n",
       "\n",
       "[5 rows x 29 columns]"
      ]
     },
     "execution_count": 45,
     "metadata": {},
     "output_type": "execute_result"
    }
   ],
   "source": [
    "print(data_feature_mapping.shape)\n",
    "data_feature_mapping.head()"
   ]
  },
  {
   "cell_type": "markdown",
   "metadata": {},
   "source": [
    "### 2.3 Cost function and gradient"
   ]
  },
  {
   "cell_type": "markdown",
   "metadata": {},
   "source": [
    "Recall that the regularized cost funtion in logistic regression is defined as (Note that you should not regularized the $\\theta_{0}$):\n",
    "\n",
    "$J(\\theta)=\\frac{1}{m}\\sum_{i=1}^{m}[-y^{(i)}log(h_{\\theta}(x^{(i)}))-(1-y^{i})log(1-h_{\\theta}(x^{(i)}))]+\\frac{\\lambda}{2m}\\sum_{j=1}^{n}\\theta_{j}^{2}$\n",
    "\n",
    "\n",
    "The gradient of cost function is defined as:\n",
    "\n",
    "\n",
    "$\\frac{\\partial J(\\theta)}{\\partial \\theta_{j}}=\\frac{1}{m}\\sum_{i=1}^{m}(h_{\\theta}(x^{i})-y^{(i)})x_{j}^{(i)}$ for j=0\n",
    "\n",
    "$\\frac{\\partial J(\\theta)}{\\partial \\theta_{j}}=\\frac{1}{m}\\sum_{i=1}^{m}(h_{\\theta}(x^{i})-y^{(i)})x_{j}^{(i)}+\\frac{\\lambda}{m}\\theta_{j}$  for j$\\geq1$"
   ]
  },
  {
   "cell_type": "code",
   "execution_count": 46,
   "metadata": {},
   "outputs": [
    {
     "name": "stdout",
     "output_type": "stream",
     "text": [
      "shape of X:\n",
      "(118, 28)\n",
      "shape of y:\n",
      "(118, 1)\n",
      "shape of theta\n",
      "(28,)\n"
     ]
    }
   ],
   "source": [
    "# inintialize \n",
    "\n",
    "X=np.array(data_feature_mapping.iloc[:,1:].values)\n",
    "y=np.array(data_feature_mapping.iloc[:,:1].values)\n",
    "print(\"shape of X:\\n{}\".format(X.shape))\n",
    "print(\"shape of y:\\n{}\".format(y.shape))\n",
    "\n",
    "theta=np.zeros(X.shape[1])\n",
    "print(\"shape of theta\\n{}\".format(theta.shape))\n",
    "C=1"
   ]
  },
  {
   "cell_type": "code",
   "execution_count": 47,
   "metadata": {},
   "outputs": [
    {
     "data": {
      "text/plain": [
       "0.6931471805599454"
      ]
     },
     "execution_count": 47,
     "metadata": {},
     "output_type": "execute_result"
    }
   ],
   "source": [
    "def compute_cost_re(theta,X,y,C):\n",
    "    theta=np.mat(theta)\n",
    "    X=np.mat(X)\n",
    "    y=np.mat(y)\n",
    "    \n",
    "    m=X.shape[0]\n",
    "    n=theta.shape[1]\n",
    "    \n",
    "    term1=np.multiply(-y,np.log(sigmoid(X*theta.T)))\n",
    "    term2=np.multiply(1-y,np.log(1-sigmoid(X*theta.T)))\n",
    "    reg=(C/(2*m)*np.sum(np.power(theta[:,1:n],2))) #j:=[1,n]\n",
    "    \n",
    "    return  (1/m)*np.sum(term1-term2)+reg\n",
    "compute_cost_re(theta,X,y,C)"
   ]
  },
  {
   "cell_type": "code",
   "execution_count": 48,
   "metadata": {},
   "outputs": [
    {
     "data": {
      "text/plain": [
       "array([8.47457627e-03, 1.87880932e-02, 7.77711864e-05, 5.03446395e-02,\n",
       "       1.15013308e-02, 3.76648474e-02, 1.83559872e-02, 7.32393391e-03,\n",
       "       8.19244468e-03, 2.34764889e-02, 3.93486234e-02, 2.23923907e-03,\n",
       "       1.28600503e-02, 3.09593720e-03, 3.93028171e-02, 1.99707467e-02,\n",
       "       4.32983232e-03, 3.38643902e-03, 5.83822078e-03, 4.47629067e-03,\n",
       "       3.10079849e-02, 3.10312442e-02, 1.09740238e-03, 6.31570797e-03,\n",
       "       4.08503006e-04, 7.26504316e-03, 1.37646175e-03, 3.87936363e-02])"
      ]
     },
     "execution_count": 48,
     "metadata": {},
     "output_type": "execute_result"
    }
   ],
   "source": [
    "def compute_gradientdescent_re(theta,X,y,C):\n",
    "    theta=np.mat(theta)\n",
    "    X=np.mat(X)\n",
    "    y=np.mat(y)\n",
    "    \n",
    "    m=X.shape[0]\n",
    "    parameters=int(theta.ravel().shape[1])\n",
    "    grad=np.zeros(parameters)\n",
    "    \n",
    "    error=sigmoid(X*theta.T)-y\n",
    "    \n",
    "    for j in range(parameters):\n",
    "        term=np.multiply(error,X[:,j])\n",
    "\n",
    "        \n",
    "        if (j==0):\n",
    "            grad[j]=np.sum(term)/m\n",
    "        else:\n",
    "            grad[j]=np.sum(term)/m+(C/m)*theta[:,j]\n",
    "            \n",
    "    return grad\n",
    "\n",
    "compute_gradientdescent_re(theta,X,y,C)"
   ]
  },
  {
   "cell_type": "markdown",
   "metadata": {},
   "source": [
    "#### 2.3.1 Learning parameters using fminunc"
   ]
  },
  {
   "cell_type": "code",
   "execution_count": 49,
   "metadata": {},
   "outputs": [
    {
     "data": {
      "text/plain": [
       "     fun: 0.5290027297129146\n",
       "     jac: array([-2.80409521e-07, -1.00810305e-07,  1.22937934e-07, -5.08268321e-08,\n",
       "        1.24833400e-08, -9.39929480e-08, -2.44867320e-08,  3.33434359e-08,\n",
       "       -9.77344700e-09,  6.88883969e-09, -6.04784449e-08, -3.53517733e-09,\n",
       "       -5.19875336e-08,  7.67595576e-09, -5.61702088e-08, -1.71396767e-08,\n",
       "        2.15246160e-08, -2.15459998e-08, -2.59513409e-09,  1.11453733e-09,\n",
       "       -1.53975085e-08, -3.89245635e-08,  2.44266054e-09, -2.16370326e-08,\n",
       "       -6.41524191e-09, -1.63738534e-08,  4.19558940e-09, -4.04802192e-08])\n",
       " message: 'Optimization terminated successfully.'\n",
       "    nfev: 7\n",
       "    nhev: 0\n",
       "     nit: 6\n",
       "    njev: 66\n",
       "  status: 0\n",
       " success: True\n",
       "       x: array([ 1.27273987,  0.62527137,  1.18108972, -2.01995879, -0.91742447,\n",
       "       -1.43166502,  0.12400838, -0.3655335 , -0.35723814, -0.17513152,\n",
       "       -1.45815885, -0.05099015, -0.61555865, -0.27470643, -1.19281744,\n",
       "       -0.24218729, -0.20600496, -0.04473194, -0.27778524, -0.29537722,\n",
       "       -0.45635827, -1.0432041 ,  0.02777155, -0.29243284,  0.01556593,\n",
       "       -0.32738056, -0.14388701, -0.92465331])"
      ]
     },
     "execution_count": 49,
     "metadata": {},
     "output_type": "execute_result"
    }
   ],
   "source": [
    "import scipy.optimize as opt\n",
    "res_min = opt.minimize(fun=compute_cost_re, x0=theta, args=(X,y,C), method='Newton-CG', jac=compute_gradientdescent_re)\n",
    "res_min"
   ]
  },
  {
   "cell_type": "code",
   "execution_count": 50,
   "metadata": {},
   "outputs": [
    {
     "data": {
      "text/plain": [
       "(array([ 1.27271027,  0.62529965,  1.18111686, -2.01987399, -0.91743189,\n",
       "        -1.43166929,  0.12393227, -0.36553118, -0.35725403, -0.17516291,\n",
       "        -1.45817009, -0.05098418, -0.61558554, -0.27469165, -1.19271298,\n",
       "        -0.2421784 , -0.20603298, -0.04466178, -0.27778951, -0.29539514,\n",
       "        -0.45645982, -1.04319155,  0.02779373, -0.2924487 ,  0.0155576 ,\n",
       "        -0.32742405, -0.1438915 , -0.92467487]),\n",
       " 32,\n",
       " 1)"
      ]
     },
     "execution_count": 50,
     "metadata": {},
     "output_type": "execute_result"
    }
   ],
   "source": [
    "import scipy.optimize as opt\n",
    "res_tnc=opt.fmin_tnc(func=compute_cost_re,x0=theta,fprime=compute_gradientdescent_re,args=(X,y,C))\n",
    "res_tnc"
   ]
  },
  {
   "cell_type": "markdown",
   "metadata": {},
   "source": [
    "### 2.4 Plotting the decision boundary"
   ]
  },
  {
   "cell_type": "code",
   "execution_count": 55,
   "metadata": {},
   "outputs": [],
   "source": [
    "from scipy.interpolate import make_interp_spline\n",
    "\n",
    "def feature_mapping_plot(theta,x1,x2):\n",
    "    degree=6\n",
    "    tmp=theta[0][0]\n",
    "    place=0\n",
    "    for i in range(1,degree+1):\n",
    "        for j in range(0,i+1):\n",
    "            tmp+=np.power(x1,i-j)*np.power(x2,j)*theta[0][place+1]\n",
    "            place+=1\n",
    "    return tmp\n",
    "def find_decision_boundary(theta):\n",
    "    t1=np.linspace(-1,1.5,3000)\n",
    "    t2=np.linspace(-1,1.5,3000)\n",
    "    \n",
    "    cordinates=[(x,y) for x in t1 for y in t2]\n",
    "    x_cord,y_cord=zip(*cordinates)\n",
    "    \n",
    "    h_val=pd.DataFrame({\"x1\":x_cord,\"x2\":y_cord})\n",
    "    h_val[\"hval\"]=feature_mapping_plot(theta,h_val[\"x1\"],h_val[\"x2\"])\n",
    "    \n",
    "    decision=h_val[np.abs(h_val[\"hval\"])<2*10**-3]\n",
    "    \n",
    "    return decision.x1,decision.x2\n",
    "x_array=np.array([2.94,3.53,4.04,4.48873,4.89895,5.3761,5.5])\n",
    "y_array=np.array([0.,0.69,1.7138,3.30976,4.97306,6.50168,7])\n",
    "x_smooth=np.linspace(x_array.min(),x_array.max())\n",
    "y_smooth=make_interp_spline(x_array,y_array)(x_smooth)\n",
    "\n",
    "x1,x2=find_decision_boundary(res_tnc)"
   ]
  },
  {
   "cell_type": "code",
   "execution_count": 56,
   "metadata": {},
   "outputs": [
    {
     "data": {
      "text/plain": [
       "Text(0, 0.5, 'Microchip test 2')"
      ]
     },
     "execution_count": 56,
     "metadata": {},
     "output_type": "execute_result"
    },
    {
     "data": {
      "image/png": "[encoded data removed]",
      "text/plain": [
       "<Figure size 864x576 with 1 Axes>"
      ]
     },
     "metadata": {
      "needs_background": "light"
     },
     "output_type": "display_data"
    }
   ],
   "source": [
    "fig,ax=plt.subplots(figsize=(12,8))\n",
    "\n",
    "font={\n",
    "    \"family\":\"Times New Roman\",\n",
    "    \"weight\":\"normal\",\n",
    "    \"size\":10\n",
    "}\n",
    "\n",
    "ax.tick_params(labelsize=15,direction=\"in\",color=\"black\",width=1,length=3)\n",
    "\n",
    "positive=data[data[\"labels\"].isin([1])]\n",
    "negative=data[data[\"labels\"].isin([0])]\n",
    "\n",
    "ax.scatter(positive[\"Microchip test 1\"],positive[\"Microchip test 2\"],s=100,c=\"#FFD700\",alpha=.5,label=\"$y=1$\")\n",
    "ax.scatter(negative[\"Microchip test 1\"],negative[\"Microchip test 2\"],s=100,c=\"black\",marker=\"+\",alpha=.5,label=\"$y=0$\")\n",
    "ax.scatter(x1,x2,s=50,c=\"#2E8B57\",label=\"decision boundary\")\n",
    "\n",
    "ax.legend(prop=font)\n",
    "ax.set_xlabel(\"Microchip test 1\",font)\n",
    "ax.set_ylabel(\"Microchip test 2\",font)\n"
   ]
  },
  {
   "cell_type": "code",
   "execution_count": null,
   "metadata": {},
   "outputs": [],
   "source": []
  }
 ],
 "metadata": {
  "kernelspec": {
   "display_name": "Python 3",
   "language": "python",
   "name": "python3"
  },
  "language_info": {
   "codemirror_mode": {
    "name": "ipython",
    "version": 3
   },
   "file_extension": ".py",
   "mimetype": "text/x-python",
   "name": "python",
   "nbconvert_exporter": "python",
   "pygments_lexer": "ipython3",
   "version": "3.8.1"
  }
 },
 "nbformat": 4,
 "nbformat_minor": 4
}
