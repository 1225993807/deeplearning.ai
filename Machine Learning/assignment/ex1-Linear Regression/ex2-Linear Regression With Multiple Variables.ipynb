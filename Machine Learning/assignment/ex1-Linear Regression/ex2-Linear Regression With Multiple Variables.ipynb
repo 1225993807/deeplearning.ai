{
 "cells": [
  {
   "cell_type": "markdown",
   "metadata": {},
   "source": [
    "## Linear regression with multiple variables"
   ]
  },
  {
   "cell_type": "markdown",
   "metadata": {},
   "source": [
    "using ex1data2.txt"
   ]
  },
  {
   "cell_type": "markdown",
   "metadata": {},
   "source": [
    "### 1.1 Feature Normalization "
   ]
  },
  {
   "cell_type": "markdown",
   "metadata": {},
   "source": [
    "Standardization $X\\sim(0,1)$:\n",
    "\n",
    "$X_{new}=\\frac{X-mean(X)}{std(X)}$\n",
    "\n",
    "Normalization $X\\in{(0,1)}$:\n",
    "\n",
    "$X_{new}=\\frac{X-min(X)}{max(X)-min(X)}$"
   ]
  },
  {
   "cell_type": "code",
   "execution_count": 96,
   "metadata": {},
   "outputs": [],
   "source": [
    "import pandas as pd\n",
    "import numpy as np\n",
    "import matplotlib.pyplot as plt"
   ]
  },
  {
   "cell_type": "code",
   "execution_count": 97,
   "metadata": {},
   "outputs": [
    {
     "name": "stdout",
     "output_type": "stream",
     "text": [
      "(47, 3)\n"
     ]
    },
    {
     "data": {
      "text/html": [
       "<div>\n",
       "<style scoped>\n",
       "    .dataframe tbody tr th:only-of-type {\n",
       "        vertical-align: middle;\n",
       "    }\n",
       "\n",
       "    .dataframe tbody tr th {\n",
       "        vertical-align: top;\n",
       "    }\n",
       "\n",
       "    .dataframe thead th {\n",
       "        text-align: right;\n",
       "    }\n",
       "</style>\n",
       "<table border=\"1\" class=\"dataframe\">\n",
       "  <thead>\n",
       "    <tr style=\"text-align: right;\">\n",
       "      <th></th>\n",
       "      <th>size of the house</th>\n",
       "      <th>number of the bedrooms</th>\n",
       "      <th>price</th>\n",
       "    </tr>\n",
       "  </thead>\n",
       "  <tbody>\n",
       "    <tr>\n",
       "      <th>0</th>\n",
       "      <td>2104</td>\n",
       "      <td>3</td>\n",
       "      <td>399900</td>\n",
       "    </tr>\n",
       "    <tr>\n",
       "      <th>1</th>\n",
       "      <td>1600</td>\n",
       "      <td>3</td>\n",
       "      <td>329900</td>\n",
       "    </tr>\n",
       "    <tr>\n",
       "      <th>2</th>\n",
       "      <td>2400</td>\n",
       "      <td>3</td>\n",
       "      <td>369000</td>\n",
       "    </tr>\n",
       "    <tr>\n",
       "      <th>3</th>\n",
       "      <td>1416</td>\n",
       "      <td>2</td>\n",
       "      <td>232000</td>\n",
       "    </tr>\n",
       "    <tr>\n",
       "      <th>4</th>\n",
       "      <td>3000</td>\n",
       "      <td>4</td>\n",
       "      <td>539900</td>\n",
       "    </tr>\n",
       "  </tbody>\n",
       "</table>\n",
       "</div>"
      ],
      "text/plain": [
       "   size of the house  number of the bedrooms   price\n",
       "0               2104                       3  399900\n",
       "1               1600                       3  329900\n",
       "2               2400                       3  369000\n",
       "3               1416                       2  232000\n",
       "4               3000                       4  539900"
      ]
     },
     "execution_count": 97,
     "metadata": {},
     "output_type": "execute_result"
    }
   ],
   "source": [
    "data=pd.read_csv(\"ex1data2.txt\",names=[\"size of the house\",\"number of the bedrooms\",\"price\"])\n",
    "print(data.shape)\n",
    "data.head()"
   ]
  },
  {
   "cell_type": "code",
   "execution_count": 107,
   "metadata": {},
   "outputs": [
    {
     "name": "stdout",
     "output_type": "stream",
     "text": [
      "shape of X: (47, 2)\n",
      "shape of y: (47, 1)\n"
     ]
    }
   ],
   "source": [
    "X=data.iloc[:,:2]\n",
    "y=data.iloc[:,-1:]\n",
    "print(\"shape of X: {}\".format(X.shape))\n",
    "print(\"shape of y: {}\".format(y.shape))\n",
    "\n",
    "def feature_Standardization(X):\n",
    "    return (X-np.mean(X))/np.std(X)\n",
    "X=feature_Standardization(X)\n",
    "y=feature_Standardization(y)"
   ]
  },
  {
   "cell_type": "markdown",
   "metadata": {},
   "source": [
    "### 1.2 Gradient descent"
   ]
  },
  {
   "cell_type": "code",
   "execution_count": 108,
   "metadata": {},
   "outputs": [],
   "source": [
    "#Add intercept term\n",
    "X.insert(0,\"Ones\",1)"
   ]
  },
  {
   "cell_type": "code",
   "execution_count": 109,
   "metadata": {},
   "outputs": [],
   "source": [
    "def compute_cost(theta,X,y):\n",
    "    m=X.shape[0]\n",
    "    inner=np.sum(np.power(X*theta.T-y,2))\n",
    "    \n",
    "    return (1/(2*m))*inner"
   ]
  },
  {
   "cell_type": "code",
   "execution_count": 110,
   "metadata": {},
   "outputs": [],
   "source": [
    "def batch_gradient_descent(theta,X,y,iterations,alpha):\n",
    "    \"\"\"\n",
    "    :param X: matrix\n",
    "    :param y: matrix\n",
    "    :param theta: matrix\n",
    "    \"\"\"\n",
    "    parameters=int(theta.ravel().shape[1])\n",
    "    temp=np.mat(np.zeros(theta.shape))\n",
    "    cost=np.zeros(iterations)\n",
    "    m=X.shape[0]\n",
    "    \n",
    "    for i in range(iterations):\n",
    "        error=X*theta.T-y\n",
    "        for j in range(parameters):\n",
    "            term=np.multiply(error,X[:,j])\n",
    "            temp[0,j]=temp[0,j]-(alpha/m)*np.sum(term)\n",
    "            \n",
    "        theta=temp\n",
    "        cost[i]=compute_cost(theta,X,y)\n",
    "    return theta,cost"
   ]
  },
  {
   "cell_type": "code",
   "execution_count": 111,
   "metadata": {},
   "outputs": [],
   "source": [
    "X=np.mat(X.values)\n",
    "y=np.mat(y.values)\n",
    "theta=np.mat(np.zeros(X.shape[1]))\n",
    "alpha=0.01\n",
    "iterations=1500"
   ]
  },
  {
   "cell_type": "code",
   "execution_count": 118,
   "metadata": {},
   "outputs": [
    {
     "name": "stdout",
     "output_type": "stream",
     "text": [
      "cost value :1.0986399254243\n"
     ]
    }
   ],
   "source": [
    "g,cost=batch_gradient_descent(theta,X,y,iterations,alpha)\n",
    "print(\"cost value :{}\".format(compute_cost(g,X,theta)))"
   ]
  },
  {
   "cell_type": "code",
   "execution_count": 121,
   "metadata": {},
   "outputs": [
    {
     "data": {
      "text/plain": [
       "Text(0, 0.5, 'epoch')"
      ]
     },
     "execution_count": 121,
     "metadata": {},
     "output_type": "execute_result"
    },
    {
     "data": {
      "image/png": "[encoded data removed]",
      "text/plain": [
       "<Figure size 864x576 with 1 Axes>"
      ]
     },
     "metadata": {
      "needs_background": "light"
     },
     "output_type": "display_data"
    }
   ],
   "source": [
    "plt.figure(figsize=(12,8))\n",
    "\n",
    "iterations=np.linspace(0,1500,1500)\n",
    "plt.plot(iterations,cost)\n",
    "plt.xlabel(\"iteraions\")\n",
    "plt.ylabel(\"epoch\")"
   ]
  }
 ],
 "metadata": {
  "kernelspec": {
   "display_name": "Python 3",
   "language": "python",
   "name": "python3"
  },
  "language_info": {
   "codemirror_mode": {
    "name": "ipython",
    "version": 3
   },
   "file_extension": ".py",
   "mimetype": "text/x-python",
   "name": "python",
   "nbconvert_exporter": "python",
   "pygments_lexer": "ipython3",
   "version": "3.8.1"
  }
 },
 "nbformat": 4,
 "nbformat_minor": 4
}
