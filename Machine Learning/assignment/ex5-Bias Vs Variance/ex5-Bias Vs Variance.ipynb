{
 "cells": [
  {
   "cell_type": "markdown",
   "metadata": {},
   "source": [
    "## Regularized Linear Regression and Bias v.s. Variance"
   ]
  },
  {
   "cell_type": "markdown",
   "metadata": {},
   "source": [
    "using ex5data1.mat"
   ]
  },
  {
   "cell_type": "markdown",
   "metadata": {},
   "source": [
    "### 1.1 Visualizing the dataset"
   ]
  },
  {
   "cell_type": "markdown",
   "metadata": {},
   "source": [
    "This dataset is divided into 3.\n",
    "\n",
    "A training set:$X,y$\n",
    "\n",
    "A cross validation set:$Xval,yval$\n",
    "\n",
    "A test set:$Xtest,ytest$"
   ]
  },
  {
   "cell_type": "code",
   "execution_count": 4,
   "metadata": {},
   "outputs": [],
   "source": [
    "import pandas as pd \n",
    "import numpy as np\n",
    "import matplotlib.pyplot as plt\n",
    "from scipy.io import loadmat"
   ]
  },
  {
   "cell_type": "code",
   "execution_count": 6,
   "metadata": {},
   "outputs": [
    {
     "data": {
      "text/plain": [
       "{'__header__': b'MATLAB 5.0 MAT-file, Platform: GLNXA64, Created on: Fri Nov  4 22:27:26 2011',\n",
       " '__version__': '1.0',\n",
       " '__globals__': [],\n",
       " 'X': array([[-15.93675813],\n",
       "        [-29.15297922],\n",
       "        [ 36.18954863],\n",
       "        [ 37.49218733],\n",
       "        [-48.05882945],\n",
       "        [ -8.94145794],\n",
       "        [ 15.30779289],\n",
       "        [-34.70626581],\n",
       "        [  1.38915437],\n",
       "        [-44.38375985],\n",
       "        [  7.01350208],\n",
       "        [ 22.76274892]]),\n",
       " 'y': array([[ 2.13431051],\n",
       "        [ 1.17325668],\n",
       "        [34.35910918],\n",
       "        [36.83795516],\n",
       "        [ 2.80896507],\n",
       "        [ 2.12107248],\n",
       "        [14.71026831],\n",
       "        [ 2.61418439],\n",
       "        [ 3.74017167],\n",
       "        [ 3.73169131],\n",
       "        [ 7.62765885],\n",
       "        [22.7524283 ]]),\n",
       " 'Xtest': array([[-33.31800399],\n",
       "        [-37.91216403],\n",
       "        [-51.20693795],\n",
       "        [ -6.13259585],\n",
       "        [ 21.26118327],\n",
       "        [-40.31952949],\n",
       "        [-14.54153167],\n",
       "        [ 32.55976024],\n",
       "        [ 13.39343255],\n",
       "        [ 44.20988595],\n",
       "        [ -1.14267768],\n",
       "        [-12.76686065],\n",
       "        [ 34.05450539],\n",
       "        [ 39.22350028],\n",
       "        [  1.97449674],\n",
       "        [ 29.6217551 ],\n",
       "        [-23.66962971],\n",
       "        [ -9.01180139],\n",
       "        [-55.94057091],\n",
       "        [-35.70859752],\n",
       "        [  9.51020533]]),\n",
       " 'ytest': array([[ 3.31688953],\n",
       "        [ 5.39768952],\n",
       "        [ 0.13042984],\n",
       "        [ 6.1925982 ],\n",
       "        [17.08848712],\n",
       "        [ 0.79950805],\n",
       "        [ 2.82479183],\n",
       "        [28.62123334],\n",
       "        [17.04639081],\n",
       "        [55.38437334],\n",
       "        [ 4.07936733],\n",
       "        [ 8.27039793],\n",
       "        [31.32355102],\n",
       "        [39.15906103],\n",
       "        [ 8.08727989],\n",
       "        [24.11134389],\n",
       "        [ 2.4773548 ],\n",
       "        [ 6.56606472],\n",
       "        [ 6.0380888 ],\n",
       "        [ 4.69273956],\n",
       "        [10.83004606]]),\n",
       " 'Xval': array([[-16.74653578],\n",
       "        [-14.57747075],\n",
       "        [ 34.51575866],\n",
       "        [-47.01007574],\n",
       "        [ 36.97511905],\n",
       "        [-40.68611002],\n",
       "        [ -4.47201098],\n",
       "        [ 26.53363489],\n",
       "        [-42.7976831 ],\n",
       "        [ 25.37409938],\n",
       "        [-31.10955398],\n",
       "        [ 27.31176864],\n",
       "        [ -3.26386201],\n",
       "        [ -1.81827649],\n",
       "        [-40.7196624 ],\n",
       "        [-50.01324365],\n",
       "        [-17.41177155],\n",
       "        [  3.5881937 ],\n",
       "        [  7.08548026],\n",
       "        [ 46.28236902],\n",
       "        [ 14.61228909]]),\n",
       " 'yval': array([[ 4.17020201e+00],\n",
       "        [ 4.06726280e+00],\n",
       "        [ 3.18730676e+01],\n",
       "        [ 1.06236562e+01],\n",
       "        [ 3.18360213e+01],\n",
       "        [ 4.95936972e+00],\n",
       "        [ 4.45159880e+00],\n",
       "        [ 2.22763185e+01],\n",
       "        [-4.38738274e-05],\n",
       "        [ 2.05038016e+01],\n",
       "        [ 3.85834476e+00],\n",
       "        [ 1.93650529e+01],\n",
       "        [ 4.88376281e+00],\n",
       "        [ 1.10971588e+01],\n",
       "        [ 7.46170827e+00],\n",
       "        [ 1.47693464e+00],\n",
       "        [ 2.71916388e+00],\n",
       "        [ 1.09269007e+01],\n",
       "        [ 8.34871235e+00],\n",
       "        [ 5.27819280e+01],\n",
       "        [ 1.33573396e+01]])}"
      ]
     },
     "execution_count": 6,
     "metadata": {},
     "output_type": "execute_result"
    }
   ],
   "source": [
    "dataSet=loadmat('ex5data1.mat')\n",
    "dataSet"
   ]
  },
  {
   "cell_type": "code",
   "execution_count": 22,
   "metadata": {},
   "outputs": [
    {
     "data": {
      "image/png": "[encoded data removed]",
      "text/plain": [
       "<Figure size 864x576 with 1 Axes>"
      ]
     },
     "metadata": {
      "needs_background": "light"
     },
     "output_type": "display_data"
    }
   ],
   "source": [
    "def plotData(dataSet):\n",
    "    \"\"\"\n",
    "    :param dataSet:\n",
    "    \"\"\"\n",
    "    X=dataSet['X']\n",
    "    y=dataSet['y']\n",
    "    \n",
    "    font= {'family' : 'Times New Roman',\n",
    "            'weight' : 'normal',\n",
    "            'size'   : 20,\n",
    "    }\n",
    "\n",
    "    fig,ax=plt.subplots(figsize=(12,8))\n",
    "    ax.tick_params(direction='in',width=1,length=3,color='black',labelsize=15)\n",
    "\n",
    "    ax.scatter(X,y,c='r',marker='x',alpha=.5,s=50)\n",
    "    ax.set_xlabel('Change in water level(X)',font)\n",
    "    ax.set_ylabel('Water flowing out of the dam (y)',font)\n",
    "    \n",
    "plotData(dataSet)"
   ]
  },
  {
   "cell_type": "markdown",
   "metadata": {},
   "source": [
    "### 1.2 Regularized linear regression cost function "
   ]
  },
  {
   "cell_type": "markdown",
   "metadata": {},
   "source": [
    "Recall that regularized linear regression cost function is defined as:\n",
    "\n",
    "$J(\\theta)=\\frac{1}{2m}(\\sum_{i=1}^{m}(h_{\\theta}(x^{(i)})-y^{(i)})^{2})+\\frac{\\lambda}{2m}(\\sum_{j=1}^{n}\\theta_{j}^{2})$"
   ]
  },
  {
   "cell_type": "code",
   "execution_count": 70,
   "metadata": {},
   "outputs": [],
   "source": [
    "def cost(theta,X,y,C):\n",
    "    \"\"\"\n",
    "    :param theta:\n",
    "    :param X:\n",
    "    :param y:\n",
    "    :param C: Lambda\n",
    "    \"\"\"\n",
    "    theta=np.mat(theta)\n",
    "    X=np.mat(X)\n",
    "    y=np.mat(y)\n",
    "    \n",
    "    m=X.shape[0]\n",
    "    \n",
    "    inner=np.power(X*theta.T-y,2).sum()\n",
    "    reg=C/(2*m)*np.power(theta[:,1:],2).sum()\n",
    "    \n",
    "    return 1/(2*m)*inner+reg"
   ]
  },
  {
   "cell_type": "code",
   "execution_count": 71,
   "metadata": {},
   "outputs": [
    {
     "data": {
      "text/plain": [
       "303.9931922202643"
      ]
     },
     "execution_count": 71,
     "metadata": {},
     "output_type": "execute_result"
    }
   ],
   "source": [
    "X=dataSet['X']\n",
    "X=np.insert(X,0,values=np.ones(1),axis=1)\n",
    "y=dataSet['y']\n",
    "theta=np.ones(X.shape[1])\n",
    "C=1\n",
    "X.shape,y.shape,theta.shape\n",
    "cost(theta,X,y,C)"
   ]
  },
  {
   "cell_type": "markdown",
   "metadata": {},
   "source": [
    "### 1.3 Regularized linear regression gradient "
   ]
  },
  {
   "cell_type": "markdown",
   "metadata": {},
   "source": [
    "Recall that regularized linear regression gradient is defined as:\n",
    "\n",
    "$\\frac{\\partial J(\\theta)}{\\partial}=\\frac{1}{m}\\sum_{i=1}^{m}(h_{\\theta}(x^{(i)})-y^{(i)})x_{j}^{(i)}$ for $j=0$\n",
    "\n",
    "$\\frac{\\partial J(\\theta)}{\\partial}=(\\frac{1}{m}\\sum_{i=1}^{m}(h_{\\theta}(x^{(i)})-y^{(i)})x_{j}^{(i)})+\\frac{\\lambda}{m}\\theta_{j}$ for $j \\geq1$"
   ]
  },
  {
   "cell_type": "code",
   "execution_count": 123,
   "metadata": {},
   "outputs": [],
   "source": [
    "def gradientRe(theta,X,y,C):\n",
    "    \"\"\"\n",
    "    :param theta:\n",
    "    :param X:\n",
    "    :param y:\n",
    "    :param C: Lambda\n",
    "    \"\"\"\n",
    "    theta=np.mat(theta)\n",
    "    X=np.mat(X)\n",
    "    y=np.mat(y)\n",
    "    \n",
    "    m=X.shape[0]\n",
    "    parameters=int(theta.ravel().shape[1])\n",
    "    grad=np.mat(np.zeros(theta.shape))\n",
    "    \n",
    "    error=X*theta.T-y\n",
    "        \n",
    "    for j in range(parameters):\n",
    "        term=np.multiply(error,X[:,j])\n",
    "        \n",
    "        if(j==0):\n",
    "            grad[0,j]=np.sum(term)/m\n",
    "        else:\n",
    "            grad[0,j]=np.sum(term)/m+C/m*theta[:,j]\n",
    "        \n",
    "    return grad"
   ]
  },
  {
   "cell_type": "code",
   "execution_count": 124,
   "metadata": {},
   "outputs": [
    {
     "data": {
      "text/plain": [
       "matrix([[-15.30301567, 598.25074417]])"
      ]
     },
     "execution_count": 124,
     "metadata": {},
     "output_type": "execute_result"
    }
   ],
   "source": [
    "gradientRe(theta,X,y,C)"
   ]
  },
  {
   "cell_type": "markdown",
   "metadata": {},
   "source": [
    "### 1.4 Fitting linear regression"
   ]
  },
  {
   "cell_type": "code",
   "execution_count": 128,
   "metadata": {},
   "outputs": [
    {
     "data": {
      "text/plain": [
       "     fun: 22.379541822940315\n",
       "     jac: matrix([[ 2.97621728e-07, -1.54084208e-08]])\n",
       " message: 'Converged (|f_n-f_(n-1)| ~= 0)'\n",
       "    nfev: 9\n",
       "     nit: 4\n",
       "  status: 1\n",
       " success: True\n",
       "       x: array([13.08771447,  0.367742  ])"
      ]
     },
     "execution_count": 128,
     "metadata": {},
     "output_type": "execute_result"
    }
   ],
   "source": [
    "from scipy.optimize import minimize\n",
    "\n",
    "res = minimize(fun=cost,\n",
    "                   x0=theta,\n",
    "                   args=(X, y, C),\n",
    "                   method='TNC',\n",
    "                   jac=gradientRe,\n",
    "                   options={'disp': True})\n",
    "\n",
    "res"
   ]
  },
  {
   "cell_type": "markdown",
   "metadata": {},
   "source": [
    "$J(\\theta)=\\theta_{0}+\\theta_{1}X_{1}$"
   ]
  },
  {
   "cell_type": "code",
   "execution_count": 134,
   "metadata": {},
   "outputs": [
    {
     "data": {
      "image/png": "[encoded data removed]",
      "text/plain": [
       "<Figure size 864x576 with 1 Axes>"
      ]
     },
     "metadata": {
      "needs_background": "light"
     },
     "output_type": "display_data"
    }
   ],
   "source": [
    "def plotDecisionBoundary(dataSet,res):\n",
    "    \"\"\"\n",
    "    :param dataSet:\n",
    "    \"\"\"\n",
    "    X=dataSet['X']\n",
    "    y=dataSet['y']\n",
    "    \n",
    "    font= {'family' : 'Times New Roman',\n",
    "            'weight' : 'normal',\n",
    "            'size'   : 20,\n",
    "    }\n",
    "    \n",
    "    XLR=np.linspace(-50,40,1000)\n",
    "    yLR=res.x[0]+res.x[1]*XLR\n",
    "\n",
    "    fig,ax=plt.subplots(figsize=(12,8))\n",
    "    ax.tick_params(direction='in',width=1,length=3,color='black',labelsize=15)\n",
    "\n",
    "    ax.scatter(XLR,yLR,c='blue',s=10,alpha=.5)\n",
    "    ax.scatter(X,y,c='r',marker='x',alpha=.5,s=50)\n",
    "    ax.set_xlabel('Change in water level(X)',font)\n",
    "    ax.set_ylabel('Water flowing out of the dam (y)',font)\n",
    "    \n",
    "plotDecisionBoundary(dataSet,res)"
   ]
  },
  {
   "cell_type": "markdown",
   "metadata": {},
   "source": [
    "## Bias-variance"
   ]
  },
  {
   "cell_type": "markdown",
   "metadata": {},
   "source": [
    "Models with high bias are not complex enough for the data and tend to be underfit\n",
    "\n",
    "Models with high variance tend to be overfit."
   ]
  },
  {
   "cell_type": "markdown",
   "metadata": {},
   "source": [
    "### 2.1 Learning curves"
   ]
  },
  {
   "cell_type": "markdown",
   "metadata": {},
   "source": [
    "Recall that the training error for a dataset is defined as:\n",
    "\n",
    "$J_{train}(\\theta)=\\frac{1}{2m}[\\sum_{i=1}^{m}(h_{\\theta}(x^{(i)})-y^{(i)})^{2}]$"
   ]
  },
  {
   "cell_type": "code",
   "execution_count": 168,
   "metadata": {},
   "outputs": [],
   "source": [
    "def plotLearningCurves(dataSet):\n",
    "    \n",
    "    X=dataSet['X']\n",
    "    X=np.insert(X,0,values=np.ones(1),axis=1)\n",
    "    y=dataSet['y']\n",
    "    Xval=dataSet['Xval']\n",
    "    Xval=np.insert(Xval,0,values=np.ones(1),axis=1)\n",
    "    yval=dataSet['yval']\n",
    "    trainingCost=[]\n",
    "    cvCost=[]\n",
    "    m=X.shape[0]\n",
    "    C=0\n",
    "    theta=np.ones(X.shape[1])\n",
    "    \n",
    "    for i in range(1,m+1):\n",
    "        res = minimize(fun=cost,\n",
    "               x0=theta,\n",
    "               args=(X[:i,:], y[:i], C),\n",
    "               method='TNC',\n",
    "               jac=gradientRe,\n",
    "               options={'disp': True})\n",
    "        tc=cost(res.x,X[:i,:],y[:i],C)\n",
    "        cv=cost(res.x,Xval,yval,C)\n",
    "        \n",
    "        trainingCost.append(tc)\n",
    "        cvCost.append(cv)\n",
    "    \n",
    "\n",
    "        \n",
    "    font= {'family' : 'Times New Roman',\n",
    "            'weight' : 'normal',\n",
    "            'size'   : 20,\n",
    "    }\n",
    "    \n",
    "    fig,ax=plt.subplots(figsize=(12,8))\n",
    "    ax.set_title('Learning curve for linear regression',font)\n",
    "    \n",
    "    ax.tick_params(direction='in',width=1,length=3,color='black',labelsize=15)\n",
    "    ax.plot(np.arange(1,m+1),trainingCost,label='Train',c='green',alpha=.5)\n",
    "    ax.plot(np.arange(1,m+1),cvCost,label='Cross validation',alpha=.5)\n",
    "    \n",
    "    ax.set_xlabel('Number of training examples',font)\n",
    "    ax.set_ylabel('Error',font)\n",
    "    \n",
    "    ax.legend(prop=font)\n",
    "    plt.show()"
   ]
  },
  {
   "cell_type": "code",
   "execution_count": 169,
   "metadata": {},
   "outputs": [
    {
     "data": {
      "image/png": "[encoded data removed]",
      "text/plain": [
       "<Figure size 864x576 with 1 Axes>"
      ]
     },
     "metadata": {
      "needs_background": "light"
     },
     "output_type": "display_data"
    }
   ],
   "source": [
    "plotLearningCurves(dataSet)"
   ]
  },
  {
   "cell_type": "markdown",
   "metadata": {},
   "source": [
    "## Polynomial regression"
   ]
  },
  {
   "cell_type": "markdown",
   "metadata": {},
   "source": [
    "For use polynomial regression,our hypothesis has the form:\n",
    "    \n",
    "![ploynomial_regression](./polynomial_regression.png)"
   ]
  },
  {
   "cell_type": "code",
   "execution_count": 235,
   "metadata": {},
   "outputs": [],
   "source": [
    "def polyFeature(x,power,as_ndarray=False):\n",
    "    \"\"\"\n",
    "    :param x:\n",
    "    :param power:\n",
    "    \"\"\"\n",
    "    data = {'f{}'.format(i): np.power(x, i) for i in range(1, power + 1)}\n",
    "    df = pd.DataFrame(data)\n",
    "\n",
    "    return df.values if as_ndarray else df"
   ]
  },
  {
   "cell_type": "code",
   "execution_count": 243,
   "metadata": {},
   "outputs": [],
   "source": [
    " def loadPolyData():       \n",
    "    dataSet = loadmat('ex5data1.mat')\n",
    "    X,y,XVal,yVal,XTest,yTest=map(np.ravel,[dataSet['X'],dataSet['y'],dataSet['Xval'],dataSet['yval'],dataSet['Xtest'],dataSet['ytest']])\n",
    "    \n",
    "    return  X,y,XVal,yVal,XTest,yTest"
   ]
  },
  {
   "cell_type": "code",
   "execution_count": 244,
   "metadata": {},
   "outputs": [
    {
     "data": {
      "text/html": [
       "<div>\n",
       "<style scoped>\n",
       "    .dataframe tbody tr th:only-of-type {\n",
       "        vertical-align: middle;\n",
       "    }\n",
       "\n",
       "    .dataframe tbody tr th {\n",
       "        vertical-align: top;\n",
       "    }\n",
       "\n",
       "    .dataframe thead th {\n",
       "        text-align: right;\n",
       "    }\n",
       "</style>\n",
       "<table border=\"1\" class=\"dataframe\">\n",
       "  <thead>\n",
       "    <tr style=\"text-align: right;\">\n",
       "      <th></th>\n",
       "      <th>f1</th>\n",
       "      <th>f2</th>\n",
       "      <th>f3</th>\n",
       "    </tr>\n",
       "  </thead>\n",
       "  <tbody>\n",
       "    <tr>\n",
       "      <th>0</th>\n",
       "      <td>-15.936758</td>\n",
       "      <td>253.980260</td>\n",
       "      <td>-4047.621971</td>\n",
       "    </tr>\n",
       "    <tr>\n",
       "      <th>1</th>\n",
       "      <td>-29.152979</td>\n",
       "      <td>849.896197</td>\n",
       "      <td>-24777.006175</td>\n",
       "    </tr>\n",
       "    <tr>\n",
       "      <th>2</th>\n",
       "      <td>36.189549</td>\n",
       "      <td>1309.683430</td>\n",
       "      <td>47396.852168</td>\n",
       "    </tr>\n",
       "    <tr>\n",
       "      <th>3</th>\n",
       "      <td>37.492187</td>\n",
       "      <td>1405.664111</td>\n",
       "      <td>52701.422173</td>\n",
       "    </tr>\n",
       "    <tr>\n",
       "      <th>4</th>\n",
       "      <td>-48.058829</td>\n",
       "      <td>2309.651088</td>\n",
       "      <td>-110999.127750</td>\n",
       "    </tr>\n",
       "    <tr>\n",
       "      <th>5</th>\n",
       "      <td>-8.941458</td>\n",
       "      <td>79.949670</td>\n",
       "      <td>-714.866612</td>\n",
       "    </tr>\n",
       "    <tr>\n",
       "      <th>6</th>\n",
       "      <td>15.307793</td>\n",
       "      <td>234.328523</td>\n",
       "      <td>3587.052500</td>\n",
       "    </tr>\n",
       "    <tr>\n",
       "      <th>7</th>\n",
       "      <td>-34.706266</td>\n",
       "      <td>1204.524887</td>\n",
       "      <td>-41804.560890</td>\n",
       "    </tr>\n",
       "    <tr>\n",
       "      <th>8</th>\n",
       "      <td>1.389154</td>\n",
       "      <td>1.929750</td>\n",
       "      <td>2.680720</td>\n",
       "    </tr>\n",
       "    <tr>\n",
       "      <th>9</th>\n",
       "      <td>-44.383760</td>\n",
       "      <td>1969.918139</td>\n",
       "      <td>-87432.373590</td>\n",
       "    </tr>\n",
       "    <tr>\n",
       "      <th>10</th>\n",
       "      <td>7.013502</td>\n",
       "      <td>49.189211</td>\n",
       "      <td>344.988637</td>\n",
       "    </tr>\n",
       "    <tr>\n",
       "      <th>11</th>\n",
       "      <td>22.762749</td>\n",
       "      <td>518.142738</td>\n",
       "      <td>11794.353058</td>\n",
       "    </tr>\n",
       "  </tbody>\n",
       "</table>\n",
       "</div>"
      ],
      "text/plain": [
       "           f1           f2             f3\n",
       "0  -15.936758   253.980260   -4047.621971\n",
       "1  -29.152979   849.896197  -24777.006175\n",
       "2   36.189549  1309.683430   47396.852168\n",
       "3   37.492187  1405.664111   52701.422173\n",
       "4  -48.058829  2309.651088 -110999.127750\n",
       "5   -8.941458    79.949670    -714.866612\n",
       "6   15.307793   234.328523    3587.052500\n",
       "7  -34.706266  1204.524887  -41804.560890\n",
       "8    1.389154     1.929750       2.680720\n",
       "9  -44.383760  1969.918139  -87432.373590\n",
       "10   7.013502    49.189211     344.988637\n",
       "11  22.762749   518.142738   11794.353058"
      ]
     },
     "execution_count": 244,
     "metadata": {},
     "output_type": "execute_result"
    }
   ],
   "source": [
    "X,y,XVal,yVal,XTest,yTest=loadPolyData()\n",
    "polyFeature(X,3)"
   ]
  },
  {
   "cell_type": "markdown",
   "metadata": {},
   "source": [
    "### 3.1 Learning Polynomial Regression"
   ]
  },
  {
   "cell_type": "code",
   "execution_count": 310,
   "metadata": {},
   "outputs": [],
   "source": [
    "def normalizeFeature(df):\n",
    "    \"\"\"\n",
    "    :param df: DataFrame\n",
    "    \"\"\"\n",
    "    return df.apply(lambda col:(col-col.mean())/col.std())"
   ]
  },
  {
   "cell_type": "code",
   "execution_count": 311,
   "metadata": {},
   "outputs": [],
   "source": [
    "def preparePolyData(*args,power):\n",
    "    def prepare(x):\n",
    "        \n",
    "        df=polyFeature(x,power=power)\n",
    "        \n",
    "        ndarr=normalizeFeature(df).values\n",
    "        \n",
    "        return np.insert(ndarr,0,np.ones(ndarr.shape[0]),axis=1)\n",
    "    \n",
    "    return [prepare(x) for x in args]"
   ]
  },
  {
   "cell_type": "code",
   "execution_count": 323,
   "metadata": {},
   "outputs": [],
   "source": [
    "XPoly,XValPoly,XTestPoly=preparePolyData(X,XVal,XTest,power=8)"
   ]
  },
  {
   "cell_type": "code",
   "execution_count": 359,
   "metadata": {},
   "outputs": [],
   "source": [
    "def plotLearningCurves(X,XPoly,y,XValPoly,yVal,C=0):\n",
    "    trainingCost=[]\n",
    "    cvCost=[]\n",
    "    m=XPoly.shape[0]\n",
    "    theta=np.ones(XPoly.shape[1])\n",
    "\n",
    "    for i in range(1,m+1):\n",
    "        res = minimize(fun=cost,\n",
    "               x0=theta,\n",
    "               args=(XPoly[:i,:], y[:i], C),\n",
    "               method='TNC',\n",
    "               jac=gradientRe,\n",
    "               options={'disp': True})\n",
    "        tc=cost(res.x,XPoly[:i,:],y[:i],C)\n",
    "        cv=cost(res.x,XValPoly,yVal,C)\n",
    "        trainingCost.append(tc)\n",
    "        cvCost.append(cv)    \n",
    "            \n",
    "        \n",
    "    font= {'family' : 'Times New Roman',\n",
    "            'weight' : 'normal',\n",
    "            'size'   : 20,\n",
    "    }\n",
    "    \n",
    "    fig,ax=plt.subplots(2,1,figsize=(12,12))\n",
    "    \n",
    "    ax[0].tick_params(direction='in',width=1,length=3,color='black',labelsize=15)\n",
    "    ax[1].tick_params(direction='in',width=1,length=3,color='black',labelsize=15)\n",
    "    \n",
    "    fitX=np.linspace(-50,50,100)\n",
    "    fitXPoly=preparePolyData(fitX,power=8)\n",
    "    \n",
    "    resX = minimize(fun=cost,\n",
    "               x0=theta,\n",
    "               args=(XPoly,y, C),\n",
    "               method='TNC',\n",
    "               jac=gradientRe,\n",
    "               options={'disp': True})\n",
    "    \n",
    "    fitY=np.dot(fitXPoly,resX.x.T)\n",
    "    \n",
    "    ax[0].plot(fitX,fitY,c='blue')\n",
    "    ax[0].scatter(X,y,c='r',marker='x')\n",
    "    ax[0].set_xlabel('Change in water level(x)',font)\n",
    "    ax[0].set_ylabel('Water flowing out of the dam(y)',font)\n",
    "                     \n",
    "    ax[1].plot(np.arange(1,m+1),trainingCost,label='Train',c='green',alpha=.5)\n",
    "    ax[1].plot(np.arange(1,m+1),cvCost,label='Cross validation',c='blue',alpha=.5)\n",
    "    ax[1].legend(prop=font)"
   ]
  },
  {
   "cell_type": "code",
   "execution_count": 360,
   "metadata": {},
   "outputs": [
    {
     "ename": "ValueError",
     "evalue": "x and y must have same first dimension, but have shapes (100,) and (1, 100)",
     "output_type": "error",
     "traceback": [
      "\u001b[0;31m---------------------------------------------------------------------------\u001b[0m",
      "\u001b[0;31mValueError\u001b[0m                                Traceback (most recent call last)",
      "\u001b[0;32m<ipython-input-360-1fc0913141da>\u001b[0m in \u001b[0;36m<module>\u001b[0;34m\u001b[0m\n\u001b[1;32m      1\u001b[0m \u001b[0mX\u001b[0m\u001b[0;34m,\u001b[0m\u001b[0my\u001b[0m\u001b[0;34m,\u001b[0m\u001b[0mXVal\u001b[0m\u001b[0;34m,\u001b[0m\u001b[0myVal\u001b[0m\u001b[0;34m,\u001b[0m\u001b[0mXTest\u001b[0m\u001b[0;34m,\u001b[0m\u001b[0myTest\u001b[0m\u001b[0;34m=\u001b[0m\u001b[0mloadPolyData\u001b[0m\u001b[0;34m(\u001b[0m\u001b[0;34m)\u001b[0m\u001b[0;34m\u001b[0m\u001b[0;34m\u001b[0m\u001b[0m\n\u001b[1;32m      2\u001b[0m \u001b[0mXPoly\u001b[0m\u001b[0;34m,\u001b[0m\u001b[0mXValPoly\u001b[0m\u001b[0;34m,\u001b[0m\u001b[0mXTestPoly\u001b[0m\u001b[0;34m=\u001b[0m\u001b[0mpreparePolyData\u001b[0m\u001b[0;34m(\u001b[0m\u001b[0mX\u001b[0m\u001b[0;34m,\u001b[0m\u001b[0mXVal\u001b[0m\u001b[0;34m,\u001b[0m\u001b[0mXTest\u001b[0m\u001b[0;34m,\u001b[0m\u001b[0mpower\u001b[0m\u001b[0;34m=\u001b[0m\u001b[0;36m8\u001b[0m\u001b[0;34m)\u001b[0m\u001b[0;34m\u001b[0m\u001b[0;34m\u001b[0m\u001b[0m\n\u001b[0;32m----> 3\u001b[0;31m \u001b[0mplotLearningCurves\u001b[0m\u001b[0;34m(\u001b[0m\u001b[0mX\u001b[0m\u001b[0;34m,\u001b[0m\u001b[0mXPoly\u001b[0m\u001b[0;34m,\u001b[0m\u001b[0my\u001b[0m\u001b[0;34m,\u001b[0m\u001b[0mXValPoly\u001b[0m\u001b[0;34m,\u001b[0m\u001b[0myVal\u001b[0m\u001b[0;34m,\u001b[0m\u001b[0mC\u001b[0m\u001b[0;34m=\u001b[0m\u001b[0;36m0\u001b[0m\u001b[0;34m)\u001b[0m\u001b[0;34m\u001b[0m\u001b[0;34m\u001b[0m\u001b[0m\n\u001b[0m",
      "\u001b[0;32m<ipython-input-359-d5b2b6fad4c1>\u001b[0m in \u001b[0;36mplotLearningCurves\u001b[0;34m(X, XPoly, y, XValPoly, yVal, C)\u001b[0m\n\u001b[1;32m     40\u001b[0m     \u001b[0mfitY\u001b[0m\u001b[0;34m=\u001b[0m\u001b[0mnp\u001b[0m\u001b[0;34m.\u001b[0m\u001b[0mdot\u001b[0m\u001b[0;34m(\u001b[0m\u001b[0mfitXPoly\u001b[0m\u001b[0;34m,\u001b[0m\u001b[0mresX\u001b[0m\u001b[0;34m.\u001b[0m\u001b[0mx\u001b[0m\u001b[0;34m.\u001b[0m\u001b[0mT\u001b[0m\u001b[0;34m)\u001b[0m\u001b[0;34m\u001b[0m\u001b[0;34m\u001b[0m\u001b[0m\n\u001b[1;32m     41\u001b[0m \u001b[0;34m\u001b[0m\u001b[0m\n\u001b[0;32m---> 42\u001b[0;31m     \u001b[0max\u001b[0m\u001b[0;34m[\u001b[0m\u001b[0;36m0\u001b[0m\u001b[0;34m]\u001b[0m\u001b[0;34m.\u001b[0m\u001b[0mplot\u001b[0m\u001b[0;34m(\u001b[0m\u001b[0mfitX\u001b[0m\u001b[0;34m,\u001b[0m\u001b[0mfitY\u001b[0m\u001b[0;34m,\u001b[0m\u001b[0mc\u001b[0m\u001b[0;34m=\u001b[0m\u001b[0;34m'blue'\u001b[0m\u001b[0;34m)\u001b[0m\u001b[0;34m\u001b[0m\u001b[0;34m\u001b[0m\u001b[0m\n\u001b[0m\u001b[1;32m     43\u001b[0m     \u001b[0max\u001b[0m\u001b[0;34m[\u001b[0m\u001b[0;36m0\u001b[0m\u001b[0;34m]\u001b[0m\u001b[0;34m.\u001b[0m\u001b[0mscatter\u001b[0m\u001b[0;34m(\u001b[0m\u001b[0mX\u001b[0m\u001b[0;34m,\u001b[0m\u001b[0my\u001b[0m\u001b[0;34m,\u001b[0m\u001b[0mc\u001b[0m\u001b[0;34m=\u001b[0m\u001b[0;34m'r'\u001b[0m\u001b[0;34m,\u001b[0m\u001b[0mmarker\u001b[0m\u001b[0;34m=\u001b[0m\u001b[0;34m'x'\u001b[0m\u001b[0;34m)\u001b[0m\u001b[0;34m\u001b[0m\u001b[0;34m\u001b[0m\u001b[0m\n\u001b[1;32m     44\u001b[0m     \u001b[0max\u001b[0m\u001b[0;34m[\u001b[0m\u001b[0;36m0\u001b[0m\u001b[0;34m]\u001b[0m\u001b[0;34m.\u001b[0m\u001b[0mset_xlabel\u001b[0m\u001b[0;34m(\u001b[0m\u001b[0;34m'Change in water level(x)'\u001b[0m\u001b[0;34m,\u001b[0m\u001b[0mfont\u001b[0m\u001b[0;34m)\u001b[0m\u001b[0;34m\u001b[0m\u001b[0;34m\u001b[0m\u001b[0m\n",
      "\u001b[0;32m/Library/Frameworks/Python.framework/Versions/3.8/lib/python3.8/site-packages/matplotlib/axes/_axes.py\u001b[0m in \u001b[0;36mplot\u001b[0;34m(self, scalex, scaley, data, *args, **kwargs)\u001b[0m\n\u001b[1;32m   1644\u001b[0m         \"\"\"\n\u001b[1;32m   1645\u001b[0m         \u001b[0mkwargs\u001b[0m \u001b[0;34m=\u001b[0m \u001b[0mcbook\u001b[0m\u001b[0;34m.\u001b[0m\u001b[0mnormalize_kwargs\u001b[0m\u001b[0;34m(\u001b[0m\u001b[0mkwargs\u001b[0m\u001b[0;34m,\u001b[0m \u001b[0mmlines\u001b[0m\u001b[0;34m.\u001b[0m\u001b[0mLine2D\u001b[0m\u001b[0;34m)\u001b[0m\u001b[0;34m\u001b[0m\u001b[0;34m\u001b[0m\u001b[0m\n\u001b[0;32m-> 1646\u001b[0;31m         \u001b[0mlines\u001b[0m \u001b[0;34m=\u001b[0m \u001b[0;34m[\u001b[0m\u001b[0;34m*\u001b[0m\u001b[0mself\u001b[0m\u001b[0;34m.\u001b[0m\u001b[0m_get_lines\u001b[0m\u001b[0;34m(\u001b[0m\u001b[0;34m*\u001b[0m\u001b[0margs\u001b[0m\u001b[0;34m,\u001b[0m \u001b[0mdata\u001b[0m\u001b[0;34m=\u001b[0m\u001b[0mdata\u001b[0m\u001b[0;34m,\u001b[0m \u001b[0;34m**\u001b[0m\u001b[0mkwargs\u001b[0m\u001b[0;34m)\u001b[0m\u001b[0;34m]\u001b[0m\u001b[0;34m\u001b[0m\u001b[0;34m\u001b[0m\u001b[0m\n\u001b[0m\u001b[1;32m   1647\u001b[0m         \u001b[0;32mfor\u001b[0m \u001b[0mline\u001b[0m \u001b[0;32min\u001b[0m \u001b[0mlines\u001b[0m\u001b[0;34m:\u001b[0m\u001b[0;34m\u001b[0m\u001b[0;34m\u001b[0m\u001b[0m\n\u001b[1;32m   1648\u001b[0m             \u001b[0mself\u001b[0m\u001b[0;34m.\u001b[0m\u001b[0madd_line\u001b[0m\u001b[0;34m(\u001b[0m\u001b[0mline\u001b[0m\u001b[0;34m)\u001b[0m\u001b[0;34m\u001b[0m\u001b[0;34m\u001b[0m\u001b[0m\n",
      "\u001b[0;32m/Library/Frameworks/Python.framework/Versions/3.8/lib/python3.8/site-packages/matplotlib/axes/_base.py\u001b[0m in \u001b[0;36m__call__\u001b[0;34m(self, *args, **kwargs)\u001b[0m\n\u001b[1;32m    214\u001b[0m                 \u001b[0mthis\u001b[0m \u001b[0;34m+=\u001b[0m \u001b[0margs\u001b[0m\u001b[0;34m[\u001b[0m\u001b[0;36m0\u001b[0m\u001b[0;34m]\u001b[0m\u001b[0;34m,\u001b[0m\u001b[0;34m\u001b[0m\u001b[0;34m\u001b[0m\u001b[0m\n\u001b[1;32m    215\u001b[0m                 \u001b[0margs\u001b[0m \u001b[0;34m=\u001b[0m \u001b[0margs\u001b[0m\u001b[0;34m[\u001b[0m\u001b[0;36m1\u001b[0m\u001b[0;34m:\u001b[0m\u001b[0;34m]\u001b[0m\u001b[0;34m\u001b[0m\u001b[0;34m\u001b[0m\u001b[0m\n\u001b[0;32m--> 216\u001b[0;31m             \u001b[0;32myield\u001b[0m \u001b[0;32mfrom\u001b[0m \u001b[0mself\u001b[0m\u001b[0;34m.\u001b[0m\u001b[0m_plot_args\u001b[0m\u001b[0;34m(\u001b[0m\u001b[0mthis\u001b[0m\u001b[0;34m,\u001b[0m \u001b[0mkwargs\u001b[0m\u001b[0;34m)\u001b[0m\u001b[0;34m\u001b[0m\u001b[0;34m\u001b[0m\u001b[0m\n\u001b[0m\u001b[1;32m    217\u001b[0m \u001b[0;34m\u001b[0m\u001b[0m\n\u001b[1;32m    218\u001b[0m     \u001b[0;32mdef\u001b[0m \u001b[0mget_next_color\u001b[0m\u001b[0;34m(\u001b[0m\u001b[0mself\u001b[0m\u001b[0;34m)\u001b[0m\u001b[0;34m:\u001b[0m\u001b[0;34m\u001b[0m\u001b[0;34m\u001b[0m\u001b[0m\n",
      "\u001b[0;32m/Library/Frameworks/Python.framework/Versions/3.8/lib/python3.8/site-packages/matplotlib/axes/_base.py\u001b[0m in \u001b[0;36m_plot_args\u001b[0;34m(self, tup, kwargs)\u001b[0m\n\u001b[1;32m    340\u001b[0m \u001b[0;34m\u001b[0m\u001b[0m\n\u001b[1;32m    341\u001b[0m         \u001b[0;32mif\u001b[0m \u001b[0mx\u001b[0m\u001b[0;34m.\u001b[0m\u001b[0mshape\u001b[0m\u001b[0;34m[\u001b[0m\u001b[0;36m0\u001b[0m\u001b[0;34m]\u001b[0m \u001b[0;34m!=\u001b[0m \u001b[0my\u001b[0m\u001b[0;34m.\u001b[0m\u001b[0mshape\u001b[0m\u001b[0;34m[\u001b[0m\u001b[0;36m0\u001b[0m\u001b[0;34m]\u001b[0m\u001b[0;34m:\u001b[0m\u001b[0;34m\u001b[0m\u001b[0;34m\u001b[0m\u001b[0m\n\u001b[0;32m--> 342\u001b[0;31m             raise ValueError(f\"x and y must have same first dimension, but \"\n\u001b[0m\u001b[1;32m    343\u001b[0m                              f\"have shapes {x.shape} and {y.shape}\")\n\u001b[1;32m    344\u001b[0m         \u001b[0;32mif\u001b[0m \u001b[0mx\u001b[0m\u001b[0;34m.\u001b[0m\u001b[0mndim\u001b[0m \u001b[0;34m>\u001b[0m \u001b[0;36m2\u001b[0m \u001b[0;32mor\u001b[0m \u001b[0my\u001b[0m\u001b[0;34m.\u001b[0m\u001b[0mndim\u001b[0m \u001b[0;34m>\u001b[0m \u001b[0;36m2\u001b[0m\u001b[0;34m:\u001b[0m\u001b[0;34m\u001b[0m\u001b[0;34m\u001b[0m\u001b[0m\n",
      "\u001b[0;31mValueError\u001b[0m: x and y must have same first dimension, but have shapes (100,) and (1, 100)"
     ]
    },
    {
     "data": {
      "image/png": "[encoded data removed]",
      "text/plain": [
       "<Figure size 864x864 with 2 Axes>"
      ]
     },
     "metadata": {
      "needs_background": "light"
     },
     "output_type": "display_data"
    }
   ],
   "source": [
    "X,y,XVal,yVal,XTest,yTest=loadPolyData()\n",
    "XPoly,XValPoly,XTestPoly=preparePolyData(X,XVal,XTest,power=8)\n",
    "plotLearningCurves(X,XPoly,y,XValPoly,yVal,C=0)"
   ]
  },
  {
   "cell_type": "code",
   "execution_count": null,
   "metadata": {},
   "outputs": [],
   "source": []
  }
 ],
 "metadata": {
  "kernelspec": {
   "display_name": "Python 3",
   "language": "python",
   "name": "python3"
  },
  "language_info": {
   "codemirror_mode": {
    "name": "ipython",
    "version": 3
   },
   "file_extension": ".py",
   "mimetype": "text/x-python",
   "name": "python",
   "nbconvert_exporter": "python",
   "pygments_lexer": "ipython3",
   "version": "3.8.1"
  }
 },
 "nbformat": 4,
 "nbformat_minor": 4
}
