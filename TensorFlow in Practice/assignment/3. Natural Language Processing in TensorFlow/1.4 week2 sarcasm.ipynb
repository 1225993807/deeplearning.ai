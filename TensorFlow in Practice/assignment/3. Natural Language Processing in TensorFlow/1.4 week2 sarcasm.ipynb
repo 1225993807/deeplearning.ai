{
 "cells": [
  {
   "cell_type": "code",
   "execution_count": 1,
   "metadata": {},
   "outputs": [],
   "source": [
    "import json\n",
    "import tensorflow as tf\n",
    "\n",
    "from tensorflow.keras.preprocessing.text import Tokenizer\n",
    "from tensorflow.keras.preprocessing.sequence import pad_sequences"
   ]
  },
  {
   "cell_type": "code",
   "execution_count": 2,
   "metadata": {},
   "outputs": [],
   "source": [
    "vocab_size = 10000\n",
    "embedding_dim = 16\n",
    "max_length = 100\n",
    "trunc_type='post'\n",
    "padding_type='post'\n",
    "oov_tok = \"<OOV>\"\n",
    "training_size = 20000"
   ]
  },
  {
   "cell_type": "code",
   "execution_count": null,
   "metadata": {},
   "outputs": [],
   "source": [
    "# !wget --no-check-certificate \\\n",
    "#     https://storage.googleapis.com/laurencemoroney-blog.appspot.com/sarcasm.json \\\n",
    "#     -O /tmp/sarcasm.json"
   ]
  },
  {
   "cell_type": "code",
   "execution_count": 3,
   "metadata": {},
   "outputs": [],
   "source": [
    "with open(\"/tmp/sarcasm.json\", 'r') as f:\n",
    "    datastore = json.load(f)\n",
    "\n",
    "sentences = []\n",
    "labels = []\n",
    "\n",
    "for item in datastore:\n",
    "    sentences.append(item['headline'])\n",
    "    labels.append(item['is_sarcastic'])"
   ]
  },
  {
   "cell_type": "code",
   "execution_count": 4,
   "metadata": {},
   "outputs": [],
   "source": [
    "training_sentences = sentences[0:training_size]\n",
    "testing_sentences = sentences[training_size:]\n",
    "training_labels = labels[0:training_size]\n",
    "testing_labels = labels[training_size:]"
   ]
  },
  {
   "cell_type": "code",
   "execution_count": 5,
   "metadata": {},
   "outputs": [],
   "source": [
    "tokenizer = Tokenizer(num_words=vocab_size, oov_token=oov_tok)\n",
    "tokenizer.fit_on_texts(training_sentences)\n",
    "\n",
    "word_index = tokenizer.word_index\n",
    "\n",
    "training_sequences = tokenizer.texts_to_sequences(training_sentences)\n",
    "training_padded = pad_sequences(training_sequences, maxlen=max_length, padding=padding_type, truncating=trunc_type)\n",
    "\n",
    "testing_sequences = tokenizer.texts_to_sequences(testing_sentences)\n",
    "testing_padded = pad_sequences(testing_sequences, maxlen=max_length, padding=padding_type, truncating=trunc_type)"
   ]
  },
  {
   "cell_type": "code",
   "execution_count": 6,
   "metadata": {},
   "outputs": [],
   "source": [
    "# Need this block to get it to work with TensorFlow 2.x\n",
    "import numpy as np\n",
    "training_padded = np.array(training_padded)\n",
    "training_labels = np.array(training_labels)\n",
    "testing_padded = np.array(testing_padded)\n",
    "testing_labels = np.array(testing_labels)"
   ]
  },
  {
   "cell_type": "code",
   "execution_count": 7,
   "metadata": {},
   "outputs": [],
   "source": [
    "model = tf.keras.Sequential([\n",
    "    tf.keras.layers.Embedding(vocab_size, embedding_dim, input_length=max_length),\n",
    "    tf.keras.layers.GlobalAveragePooling1D(),\n",
    "    tf.keras.layers.Dense(24, activation='relu'),\n",
    "    tf.keras.layers.Dense(1, activation='sigmoid')\n",
    "])\n",
    "model.compile(loss='binary_crossentropy',optimizer='adam',metrics=['accuracy'])"
   ]
  },
  {
   "cell_type": "code",
   "execution_count": 8,
   "metadata": {},
   "outputs": [
    {
     "name": "stdout",
     "output_type": "stream",
     "text": [
      "Train on 20000 samples, validate on 6709 samples\n",
      "Epoch 1/30\n",
      "20000/20000 - 2s - loss: 0.6702 - accuracy: 0.5797 - val_loss: 0.5978 - val_accuracy: 0.6864\n",
      "Epoch 2/30\n",
      "20000/20000 - 1s - loss: 0.4351 - accuracy: 0.8267 - val_loss: 0.3839 - val_accuracy: 0.8383\n",
      "Epoch 3/30\n",
      "20000/20000 - 1s - loss: 0.3072 - accuracy: 0.8781 - val_loss: 0.3657 - val_accuracy: 0.8362\n",
      "Epoch 4/30\n",
      "20000/20000 - 1s - loss: 0.2559 - accuracy: 0.9014 - val_loss: 0.3445 - val_accuracy: 0.8535\n",
      "Epoch 5/30\n",
      "20000/20000 - 1s - loss: 0.2206 - accuracy: 0.9150 - val_loss: 0.3457 - val_accuracy: 0.8572\n",
      "Epoch 6/30\n",
      "20000/20000 - 1s - loss: 0.1929 - accuracy: 0.9276 - val_loss: 0.3532 - val_accuracy: 0.8526\n",
      "Epoch 7/30\n",
      "20000/20000 - 1s - loss: 0.1711 - accuracy: 0.9348 - val_loss: 0.3855 - val_accuracy: 0.8432\n",
      "Epoch 8/30\n",
      "20000/20000 - 1s - loss: 0.1531 - accuracy: 0.9451 - val_loss: 0.3884 - val_accuracy: 0.8508\n",
      "Epoch 9/30\n",
      "20000/20000 - 1s - loss: 0.1377 - accuracy: 0.9495 - val_loss: 0.4201 - val_accuracy: 0.8429\n",
      "Epoch 10/30\n",
      "20000/20000 - 1s - loss: 0.1250 - accuracy: 0.9546 - val_loss: 0.4418 - val_accuracy: 0.8425\n",
      "Epoch 11/30\n",
      "20000/20000 - 1s - loss: 0.1127 - accuracy: 0.9603 - val_loss: 0.4669 - val_accuracy: 0.8390\n",
      "Epoch 12/30\n",
      "20000/20000 - 1s - loss: 0.1021 - accuracy: 0.9643 - val_loss: 0.4800 - val_accuracy: 0.8451\n",
      "Epoch 13/30\n",
      "20000/20000 - 1s - loss: 0.0948 - accuracy: 0.9674 - val_loss: 0.5337 - val_accuracy: 0.8328\n",
      "Epoch 14/30\n",
      "20000/20000 - 1s - loss: 0.0861 - accuracy: 0.9715 - val_loss: 0.5285 - val_accuracy: 0.8439\n",
      "Epoch 15/30\n",
      "20000/20000 - 1s - loss: 0.0789 - accuracy: 0.9740 - val_loss: 0.5696 - val_accuracy: 0.8322\n",
      "Epoch 16/30\n",
      "20000/20000 - 1s - loss: 0.0729 - accuracy: 0.9766 - val_loss: 0.6042 - val_accuracy: 0.8296\n",
      "Epoch 17/30\n",
      "20000/20000 - 1s - loss: 0.0649 - accuracy: 0.9797 - val_loss: 0.6612 - val_accuracy: 0.8301\n",
      "Epoch 18/30\n",
      "20000/20000 - 1s - loss: 0.0600 - accuracy: 0.9809 - val_loss: 0.6676 - val_accuracy: 0.8313\n",
      "Epoch 19/30\n",
      "20000/20000 - 1s - loss: 0.0555 - accuracy: 0.9826 - val_loss: 0.7041 - val_accuracy: 0.8253\n",
      "Epoch 20/30\n",
      "20000/20000 - 1s - loss: 0.0494 - accuracy: 0.9857 - val_loss: 0.7437 - val_accuracy: 0.8268\n",
      "Epoch 21/30\n",
      "20000/20000 - 1s - loss: 0.0449 - accuracy: 0.9857 - val_loss: 0.8052 - val_accuracy: 0.8222\n",
      "Epoch 22/30\n",
      "20000/20000 - 1s - loss: 0.0435 - accuracy: 0.9858 - val_loss: 0.8333 - val_accuracy: 0.8202\n",
      "Epoch 23/30\n",
      "20000/20000 - 1s - loss: 0.0385 - accuracy: 0.9888 - val_loss: 0.8595 - val_accuracy: 0.8198\n",
      "Epoch 24/30\n",
      "20000/20000 - 1s - loss: 0.0361 - accuracy: 0.9894 - val_loss: 0.9456 - val_accuracy: 0.8164\n",
      "Epoch 25/30\n",
      "20000/20000 - 1s - loss: 0.0335 - accuracy: 0.9906 - val_loss: 0.9565 - val_accuracy: 0.8180\n",
      "Epoch 26/30\n",
      "20000/20000 - 1s - loss: 0.0297 - accuracy: 0.9916 - val_loss: 0.9829 - val_accuracy: 0.8173\n",
      "Epoch 27/30\n",
      "20000/20000 - 1s - loss: 0.0279 - accuracy: 0.9923 - val_loss: 1.0133 - val_accuracy: 0.8153\n",
      "Epoch 28/30\n",
      "20000/20000 - 1s - loss: 0.0263 - accuracy: 0.9929 - val_loss: 1.0635 - val_accuracy: 0.8152\n",
      "Epoch 29/30\n",
      "20000/20000 - 1s - loss: 0.0228 - accuracy: 0.9937 - val_loss: 1.1529 - val_accuracy: 0.8129\n",
      "Epoch 30/30\n",
      "20000/20000 - 1s - loss: 0.0223 - accuracy: 0.9937 - val_loss: 1.1317 - val_accuracy: 0.8100\n"
     ]
    }
   ],
   "source": [
    "num_epochs = 30\n",
    "history = model.fit(training_padded, \n",
    "                    training_labels, \n",
    "                    epochs=num_epochs, \n",
    "                    validation_data=(testing_padded, testing_labels), \n",
    "                    verbose=2)"
   ]
  },
  {
   "cell_type": "code",
   "execution_count": 9,
   "metadata": {},
   "outputs": [
    {
     "data": {
      "image/png": "[encoded data removed]",
      "text/plain": [
       "<Figure size 432x288 with 1 Axes>"
      ]
     },
     "metadata": {
      "needs_background": "light"
     },
     "output_type": "display_data"
    },
    {
     "data": {
      "image/png": "[encoded data removed]",
      "text/plain": [
       "<Figure size 432x288 with 1 Axes>"
      ]
     },
     "metadata": {
      "needs_background": "light"
     },
     "output_type": "display_data"
    }
   ],
   "source": [
    "import matplotlib.pyplot as plt\n",
    "\n",
    "def plot_graphs(history, string):\n",
    "    plt.plot(history.history[string])\n",
    "    plt.plot(history.history['val_'+string])\n",
    "    plt.xlabel(\"Epochs\")\n",
    "    plt.ylabel(string)\n",
    "    plt.legend([string, 'val_'+string])\n",
    "    plt.show()\n",
    "  \n",
    "\n",
    "plot_graphs(history, \"accuracy\")\n",
    "plot_graphs(history, \"loss\")"
   ]
  },
  {
   "cell_type": "code",
   "execution_count": 10,
   "metadata": {},
   "outputs": [
    {
     "name": "stdout",
     "output_type": "stream",
     "text": [
      "former <OOV> store clerk sues over secret 'black <OOV> for minority shoppers ? ? ? ? ? ? ? ? ? ? ? ? ? ? ? ? ? ? ? ? ? ? ? ? ? ? ? ? ? ? ? ? ? ? ? ? ? ? ? ? ? ? ? ? ? ? ? ? ? ? ? ? ? ? ? ? ? ? ? ? ? ? ? ? ? ? ? ? ? ? ? ? ? ? ? ? ? ? ? ? ? ? ? ? ? ? ? ?\n",
      "mom starting to fear son's web series closest thing she will have to grandchild\n",
      "1\n"
     ]
    }
   ],
   "source": [
    "reverse_word_index = dict([(value, key) for (key, value) in word_index.items()])\n",
    "\n",
    "def decode_sentence(text):\n",
    "    return ' '.join([reverse_word_index.get(i, '?') for i in text])\n",
    "\n",
    "print(decode_sentence(training_padded[0]))\n",
    "print(training_sentences[2])\n",
    "print(labels[2])"
   ]
  },
  {
   "cell_type": "code",
   "execution_count": 11,
   "metadata": {},
   "outputs": [
    {
     "name": "stdout",
     "output_type": "stream",
     "text": [
      "(10000, 16)\n"
     ]
    }
   ],
   "source": [
    "e = model.layers[0]\n",
    "weights = e.get_weights()[0]\n",
    "print(weights.shape) # shape: (vocab_size, embedding_dim)"
   ]
  },
  {
   "cell_type": "code",
   "execution_count": 12,
   "metadata": {},
   "outputs": [],
   "source": [
    "import io\n",
    "\n",
    "out_v = io.open('vecs.tsv', 'w', encoding='utf-8')\n",
    "out_m = io.open('meta.tsv', 'w', encoding='utf-8')\n",
    "for word_num in range(1, vocab_size):\n",
    "    word = reverse_word_index[word_num]\n",
    "    embeddings = weights[word_num]\n",
    "    out_m.write(word + \"\\n\")\n",
    "    out_v.write('\\t'.join([str(x) for x in embeddings]) + \"\\n\")\n",
    "out_v.close()\n",
    "out_m.close()"
   ]
  },
  {
   "cell_type": "code",
   "execution_count": 13,
   "metadata": {},
   "outputs": [
    {
     "name": "stdout",
     "output_type": "stream",
     "text": [
      "[[9.7265303e-01]\n",
      " [3.1895386e-06]]\n"
     ]
    }
   ],
   "source": [
    "sentence = [\"granny starting to fear spiders in the garden might be real\", \"game of thrones season finale showing this sunday night\"]\n",
    "sequences = tokenizer.texts_to_sequences(sentence)\n",
    "padded = pad_sequences(sequences, maxlen=max_length, padding=padding_type, truncating=trunc_type)\n",
    "print(model.predict(padded))"
   ]
  },
  {
   "cell_type": "code",
   "execution_count": null,
   "metadata": {},
   "outputs": [],
   "source": []
  }
 ],
 "metadata": {
  "kernelspec": {
   "display_name": "Python 3",
   "language": "python",
   "name": "python3"
  },
  "language_info": {
   "codemirror_mode": {
    "name": "ipython",
    "version": 3
   },
   "file_extension": ".py",
   "mimetype": "text/x-python",
   "name": "python",
   "nbconvert_exporter": "python",
   "pygments_lexer": "ipython3",
   "version": "3.7.7"
  }
 },
 "nbformat": 4,
 "nbformat_minor": 4
}
